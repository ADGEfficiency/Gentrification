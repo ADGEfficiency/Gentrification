{
 "cells": [
  {
   "cell_type": "markdown",
   "metadata": {},
   "source": [
    "Random Thoughts\n",
    "- rent will be affected by macro economic factors (incl inflation)\n",
    "- warm rent will be affected by gas prices"
   ]
  },
  {
   "cell_type": "code",
   "execution_count": null,
   "metadata": {},
   "outputs": [],
   "source": [
    "from gentrification import load_dataframes"
   ]
  },
  {
   "cell_type": "code",
   "execution_count": null,
   "metadata": {},
   "outputs": [],
   "source": [
    "dataframes = load_dataframes()"
   ]
  },
  {
   "cell_type": "code",
   "execution_count": null,
   "metadata": {},
   "outputs": [],
   "source": [
    "dataframes.keys()"
   ]
  },
  {
   "cell_type": "code",
   "execution_count": null,
   "metadata": {},
   "outputs": [],
   "source": [
    "data = dataframes['final_all']\n",
    "print(data.shape)\n",
    "data.head()"
   ]
  },
  {
   "cell_type": "markdown",
   "metadata": {},
   "source": [
    "Number of districts:"
   ]
  },
  {
   "cell_type": "code",
   "execution_count": null,
   "metadata": {},
   "outputs": [],
   "source": [
    "print(len(set(data.loc[:, 'Bezirksregion'])), ',', len(set(data.loc[:, 'Bezirksname'])))"
   ]
  },
  {
   "cell_type": "markdown",
   "metadata": {},
   "source": [
    "Randomly have a look at the rent history (run this cell multiple times to see different regions, can be a nice way to explore a large dataset):"
   ]
  },
  {
   "cell_type": "code",
   "execution_count": null,
   "metadata": {},
   "outputs": [],
   "source": [
    "from random import choice\n",
    "import matplotlib.pyplot as plt\n",
    "\n",
    "def plot_random():\n",
    "    reg = choice(data.loc[:, 'Bezirksname'])\n",
    "    mask = data.loc[:, 'Bezirksname'] == reg\n",
    "    f, ax = plt.subplots()\n",
    "    ax.plot(data.loc[mask, \"year\"], data.loc[mask, \"rent_warm\"])\n",
    "    ax.set_title(reg)\n",
    "    return ax\n",
    "\n",
    "plot_random()\n",
    "plot_random()\n",
    "plot_random()\n",
    "plot_random()"
   ]
  },
  {
   "cell_type": "code",
   "execution_count": null,
   "metadata": {},
   "outputs": [],
   "source": [
    "cols = list(data.columns)\n",
    "cols = [c for c in cols if \"t-1\" not in c]\n",
    "print(cols)"
   ]
  },
  {
   "cell_type": "markdown",
   "metadata": {},
   "source": [
    "Take a look at a few selected features and the correlation w/ target:"
   ]
  },
  {
   "cell_type": "code",
   "execution_count": null,
   "metadata": {},
   "outputs": [],
   "source": [
    "subset = [\n",
    "    \"Bezirksregion\", \"year\", \"rent_warm\", \"total_foreigners_perc\", \"area\", \"65_above_perc\", \"net_income\",\n",
    "    \"TUR\", \"Islamic_countries\"\n",
    "]\n",
    "\n",
    "sub = data.loc[:, subset]\n",
    "\n",
    "sub.corr().loc[:, 'rent_warm']"
   ]
  },
  {
   "cell_type": "markdown",
   "metadata": {},
   "source": [
    "All features negatively correlated w/ target:"
   ]
  },
  {
   "cell_type": "code",
   "execution_count": null,
   "metadata": {},
   "outputs": [],
   "source": [
    "corr = data.loc[:, cols].corr().loc[:, 'rent_warm']\n",
    "corr.loc[corr < 0].sort_values()"
   ]
  },
  {
   "cell_type": "markdown",
   "metadata": {},
   "source": [
    "All features positively correlated w/ target:"
   ]
  },
  {
   "cell_type": "code",
   "execution_count": null,
   "metadata": {},
   "outputs": [],
   "source": [
    "corr = data.loc[:, cols].corr().loc[:, 'rent_warm']\n",
    "corr.loc[corr > 0].sort_values(ascending=False)"
   ]
  }
 ],
 "metadata": {
  "kernelspec": {
   "display_name": "Python 3",
   "language": "python",
   "name": "python3"
  },
  "language_info": {
   "codemirror_mode": {
    "name": "ipython",
    "version": 3
   },
   "file_extension": ".py",
   "mimetype": "text/x-python",
   "name": "python",
   "nbconvert_exporter": "python",
   "pygments_lexer": "ipython3",
   "version": "3.7.6"
  }
 },
 "nbformat": 4,
 "nbformat_minor": 4
}
