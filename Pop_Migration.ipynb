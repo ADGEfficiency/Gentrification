{
 "cells": [
  {
   "cell_type": "code",
   "execution_count": 1,
   "metadata": {},
   "outputs": [],
   "source": [
    "import numpy as np\n",
    "import pandas as pd"
   ]
  },
  {
   "cell_type": "code",
   "execution_count": 2,
   "metadata": {},
   "outputs": [],
   "source": [
    "def import_excel(start_year, end_year):\n",
    "    df = pd.read_excel('./data/migr/migr_combined_2007-2019.xlsx', sheet_name=[str(i) for i in range(start_year, end_year+1)])  \n",
    "    df = pd.concat(df, axis=0, ignore_index=True)\n",
    "    return df"
   ]
  },
  {
   "cell_type": "markdown",
   "metadata": {},
   "source": [
    "### 2015 - 2019"
   ]
  },
  {
   "cell_type": "code",
   "execution_count": 3,
   "metadata": {},
   "outputs": [],
   "source": [
    "migr_2015_2019 = import_excel(2015, 2019)"
   ]
  },
  {
   "cell_type": "code",
   "execution_count": 4,
   "metadata": {},
   "outputs": [],
   "source": [
    "migr_2015_2019['Planungsraum'] = migr_2015_2019['Planungsraum'].astype(int).apply('{:0>8}'.format)\n",
    "migr_2015_2019['LOR'] = migr_2015_2019['Planungsraum'].apply(lambda x: str(x)[:6])\n",
    "migr_2015_2019['Bezirk'] = migr_2015_2019['LOR'].apply(lambda x: str(x)[:2])\n",
    "migr_2015_2019.drop('Planungsraum', axis=1, inplace=True)\n",
    "\n",
    "\n",
    "migr_2015_2019.columns = ['total_foreigners', 'EU', 'FRA', 'GRC', 'ITA', 'AUT', 'ESP',\n",
    "                          'UK', 'POL', 'BGR', 'ROU', 'HRV', 'former_JUGO', 'BIH', 'SRB',\n",
    "                          'former_UDSSR', 'RUS', 'UKR', 'KAZ', 'Islamic_countries', 'TUR', 'IRN',\n",
    "                          'Arabic_countries', 'LBN', 'SYR', 'VNM', 'USA', 'not_identified',\n",
    "                          'year', 'LOR', 'Bezirk']\n"
   ]
  },
  {
   "cell_type": "code",
   "execution_count": 5,
   "metadata": {},
   "outputs": [],
   "source": [
    "migr_2015_2019_clean = migr_2015_2019.groupby(['Bezirk', 'LOR', 'year'], as_index=False).sum()\n",
    "migr_2015_2019_clean.sort_values(['year', 'LOR'], inplace=True, ignore_index=True)"
   ]
  },
  {
   "cell_type": "markdown",
   "metadata": {},
   "source": [
    "### 2009 - 2014"
   ]
  },
  {
   "cell_type": "code",
   "execution_count": 6,
   "metadata": {},
   "outputs": [],
   "source": [
    "migr_2009_2014 = import_excel(2009, 2014)"
   ]
  },
  {
   "cell_type": "code",
   "execution_count": 7,
   "metadata": {},
   "outputs": [],
   "source": [
    "migr_2009_2014['Bezirk'] = migr_2009_2014['Bezirk'].apply('{:0>2}'.format)\n",
    "migr_2009_2014.drop('Bezirksname', axis=1, inplace=True)\n",
    "\n",
    "migr_2009_2014.columns = ['Bezirk', 'total_foreigners', 'EU', 'POL', 'ITA',\n",
    "                          'former_UDSSR', 'RUS', 'UKR',\n",
    "                          'KAZ', 'former_JUGO', 'TUR', 'Arabic_countries',\n",
    "                          'VNM', 'USA', 'year', 'FRA',\n",
    "                          'GRC', 'AUT', 'UK', 'BGR',\n",
    "                          'BIH', 'HRV', 'SRB', 'Islamic_countries',\n",
    "                          'IRN', 'LBN', 'not_identified', 'ESP', 'ROU',\n",
    "                          'CHN']"
   ]
  },
  {
   "cell_type": "markdown",
   "metadata": {},
   "source": [
    "### 2007 - 2008"
   ]
  },
  {
   "cell_type": "code",
   "execution_count": 8,
   "metadata": {},
   "outputs": [],
   "source": [
    "migr_2007_2008 = import_excel(2007, 2008)"
   ]
  },
  {
   "cell_type": "code",
   "execution_count": 9,
   "metadata": {
    "scrolled": false
   },
   "outputs": [],
   "source": [
    "migr_2007_2008['Bezirk'] = migr_2007_2008['Bezirk'].apply('{:0>2}'.format)\n",
    "migr_2007_2008.drop(['Ortsteil', 'Ortsteilname'], axis=1, inplace=True)\n",
    "\n",
    "migr_2007_2008.columns = ['Bezirk', 'total_foreigners', 'year']"
   ]
  },
  {
   "cell_type": "code",
   "execution_count": 10,
   "metadata": {},
   "outputs": [],
   "source": [
    "migr_2007_2008_clean = migr_2007_2008.groupby(['Bezirk', 'year'], as_index=False).sum()\n",
    "migr_2007_2008_clean.sort_values(['year', 'Bezirk'], inplace=True, ignore_index=True)"
   ]
  },
  {
   "cell_type": "markdown",
   "metadata": {},
   "source": [
    "### Expanding 2007-2008 and 2009-2014 to LOR-level"
   ]
  },
  {
   "cell_type": "code",
   "execution_count": 11,
   "metadata": {},
   "outputs": [],
   "source": [
    "all_lor = migr_2015_2019_clean[['Bezirk', 'LOR']].copy().drop_duplicates()"
   ]
  },
  {
   "cell_type": "code",
   "execution_count": 12,
   "metadata": {
    "scrolled": false
   },
   "outputs": [],
   "source": [
    "migr_2007_2008_lor = pd.merge(all_lor, migr_2007_2008_clean, on='Bezirk', how='outer')\n",
    "migr_2009_2014_lor = pd.merge(all_lor, migr_2009_2014, on='Bezirk', how='outer')"
   ]
  },
  {
   "cell_type": "markdown",
   "metadata": {},
   "source": [
    "### Dividing totals for 2007-20014 by number of LOR in Bezirk"
   ]
  },
  {
   "cell_type": "markdown",
   "metadata": {},
   "source": [
    "##### 2007 - 2008"
   ]
  },
  {
   "cell_type": "code",
   "execution_count": 13,
   "metadata": {},
   "outputs": [],
   "source": [
    "#group_2007_2008 = migr_2007_2008_lor.groupby(['Bezirk', 'year']).agg(['count', 'mean'])"
   ]
  },
  {
   "cell_type": "code",
   "execution_count": 14,
   "metadata": {},
   "outputs": [],
   "source": [
    "#group_2007_2008['total_foreigners_new'] = group_2007_2008[('total_foreigners', 'mean')] / group_2007_2008[('total_foreigners', 'count')]\n",
    "#group_2007_2008.drop([('total_foreigners', 'count'), ('total_foreigners', 'mean')], axis=1, inplace=True)\n",
    "#group_2007_2008.reset_index(inplace=True)\n",
    "#group_2007_2008.columns = ['Bezirk', 'year', 'total_foreigners']"
   ]
  },
  {
   "cell_type": "markdown",
   "metadata": {},
   "source": [
    "##### 2009 - 2014"
   ]
  },
  {
   "cell_type": "code",
   "execution_count": 15,
   "metadata": {},
   "outputs": [],
   "source": [
    "#group_2009_2014 = migr_2009_2014_lor.groupby(['Bezirk', 'year']).agg(['count', 'mean'])"
   ]
  },
  {
   "cell_type": "code",
   "execution_count": 16,
   "metadata": {},
   "outputs": [],
   "source": [
    "#cols = ['total_foreigners', 'EU', 'POL', 'ITA', 'former_UDSSR',\n",
    "#       'RUS', 'UKR', 'KAZ', 'former_JUGO', 'TUR', 'Arabic_countries', 'VNM',\n",
    "#       'USA', 'FRA', 'GRC', 'AUT', 'UK', 'BGR', 'BIH', 'HRV', 'SRB',\n",
    "#       'Islamic_countries', 'IRN', 'LBN', 'not_identified', 'ESP', 'ROU',\n",
    "#       'CHN']\n",
    "\n",
    "#for col in cols:\n",
    "#    group_2009_2014['_'.join([col, 'new'])] = group_2009_2014[(col, 'mean')] / group_2009_2014[(col, 'count')]\n",
    "#    group_2009_2014.drop([(col, 'count'), (col, 'mean')], axis=1, inplace=True)"
   ]
  },
  {
   "cell_type": "code",
   "execution_count": 17,
   "metadata": {},
   "outputs": [],
   "source": [
    "#group_2009_2014.reset_index(inplace=True)\n",
    "\n",
    "#cols_new = ['Bezirk', 'year'] + ['_'.join([c, 'new']) for c in cols]\n",
    "    \n",
    "#group_2009_2014.columns = cols_new"
   ]
  },
  {
   "cell_type": "code",
   "execution_count": 18,
   "metadata": {
    "scrolled": true
   },
   "outputs": [],
   "source": [
    "#migr_2009_2014_split = pd.merge(migr_2009_2014_lor, group_2009_2014, on=['Bezirk', 'year'], how='outer')\n",
    "#migr_2009_2014_split.drop(cols, axis=1, inplace=True)\n",
    "#migr_2009_2014_split.columns = ['Bezirk', 'LOR', 'year'] + cols"
   ]
  },
  {
   "cell_type": "markdown",
   "metadata": {},
   "source": [
    "### Combining dataframes"
   ]
  },
  {
   "cell_type": "code",
   "execution_count": 19,
   "metadata": {},
   "outputs": [],
   "source": [
    "migr = migr_2015_2019_clean.append([migr_2009_2014_lor, migr_2007_2008_lor], ignore_index=True)"
   ]
  },
  {
   "cell_type": "code",
   "execution_count": 22,
   "metadata": {},
   "outputs": [
    {
     "data": {
      "text/plain": [
       "['./dataframes/final_migr.pkl']"
      ]
     },
     "execution_count": 22,
     "metadata": {},
     "output_type": "execute_result"
    }
   ],
   "source": [
    "import joblib\n",
    "\n",
    "joblib.dump(migr, './dataframes/final_migr.pkl')"
   ]
  },
  {
   "cell_type": "code",
   "execution_count": 23,
   "metadata": {},
   "outputs": [
    {
     "data": {
      "text/html": [
       "<div>\n",
       "<style scoped>\n",
       "    .dataframe tbody tr th:only-of-type {\n",
       "        vertical-align: middle;\n",
       "    }\n",
       "\n",
       "    .dataframe tbody tr th {\n",
       "        vertical-align: top;\n",
       "    }\n",
       "\n",
       "    .dataframe thead th {\n",
       "        text-align: right;\n",
       "    }\n",
       "</style>\n",
       "<table border=\"1\" class=\"dataframe\">\n",
       "  <thead>\n",
       "    <tr style=\"text-align: right;\">\n",
       "      <th></th>\n",
       "      <th>Bezirk</th>\n",
       "      <th>LOR</th>\n",
       "      <th>year</th>\n",
       "      <th>total_foreigners</th>\n",
       "      <th>EU</th>\n",
       "      <th>FRA</th>\n",
       "      <th>GRC</th>\n",
       "      <th>ITA</th>\n",
       "      <th>AUT</th>\n",
       "      <th>ESP</th>\n",
       "      <th>...</th>\n",
       "      <th>Islamic_countries</th>\n",
       "      <th>TUR</th>\n",
       "      <th>IRN</th>\n",
       "      <th>Arabic_countries</th>\n",
       "      <th>LBN</th>\n",
       "      <th>SYR</th>\n",
       "      <th>VNM</th>\n",
       "      <th>USA</th>\n",
       "      <th>not_identified</th>\n",
       "      <th>CHN</th>\n",
       "    </tr>\n",
       "  </thead>\n",
       "  <tbody>\n",
       "    <tr>\n",
       "      <th>695</th>\n",
       "      <td>01</td>\n",
       "      <td>010111</td>\n",
       "      <td>2014</td>\n",
       "      <td>171041</td>\n",
       "      <td>53080.0</td>\n",
       "      <td>4044.0</td>\n",
       "      <td>2982.0</td>\n",
       "      <td>4862.0</td>\n",
       "      <td>2068.0</td>\n",
       "      <td>3050.0</td>\n",
       "      <td>...</td>\n",
       "      <td>63518.0</td>\n",
       "      <td>36432.0</td>\n",
       "      <td>908.0</td>\n",
       "      <td>18083.0</td>\n",
       "      <td>6012.0</td>\n",
       "      <td>NaN</td>\n",
       "      <td>2284.0</td>\n",
       "      <td>3095.0</td>\n",
       "      <td>12126.0</td>\n",
       "      <td>2207.0</td>\n",
       "    </tr>\n",
       "    <tr>\n",
       "      <th>701</th>\n",
       "      <td>01</td>\n",
       "      <td>010112</td>\n",
       "      <td>2014</td>\n",
       "      <td>171041</td>\n",
       "      <td>53080.0</td>\n",
       "      <td>4044.0</td>\n",
       "      <td>2982.0</td>\n",
       "      <td>4862.0</td>\n",
       "      <td>2068.0</td>\n",
       "      <td>3050.0</td>\n",
       "      <td>...</td>\n",
       "      <td>63518.0</td>\n",
       "      <td>36432.0</td>\n",
       "      <td>908.0</td>\n",
       "      <td>18083.0</td>\n",
       "      <td>6012.0</td>\n",
       "      <td>NaN</td>\n",
       "      <td>2284.0</td>\n",
       "      <td>3095.0</td>\n",
       "      <td>12126.0</td>\n",
       "      <td>2207.0</td>\n",
       "    </tr>\n",
       "    <tr>\n",
       "      <th>707</th>\n",
       "      <td>01</td>\n",
       "      <td>010113</td>\n",
       "      <td>2014</td>\n",
       "      <td>171041</td>\n",
       "      <td>53080.0</td>\n",
       "      <td>4044.0</td>\n",
       "      <td>2982.0</td>\n",
       "      <td>4862.0</td>\n",
       "      <td>2068.0</td>\n",
       "      <td>3050.0</td>\n",
       "      <td>...</td>\n",
       "      <td>63518.0</td>\n",
       "      <td>36432.0</td>\n",
       "      <td>908.0</td>\n",
       "      <td>18083.0</td>\n",
       "      <td>6012.0</td>\n",
       "      <td>NaN</td>\n",
       "      <td>2284.0</td>\n",
       "      <td>3095.0</td>\n",
       "      <td>12126.0</td>\n",
       "      <td>2207.0</td>\n",
       "    </tr>\n",
       "    <tr>\n",
       "      <th>713</th>\n",
       "      <td>01</td>\n",
       "      <td>010114</td>\n",
       "      <td>2014</td>\n",
       "      <td>171041</td>\n",
       "      <td>53080.0</td>\n",
       "      <td>4044.0</td>\n",
       "      <td>2982.0</td>\n",
       "      <td>4862.0</td>\n",
       "      <td>2068.0</td>\n",
       "      <td>3050.0</td>\n",
       "      <td>...</td>\n",
       "      <td>63518.0</td>\n",
       "      <td>36432.0</td>\n",
       "      <td>908.0</td>\n",
       "      <td>18083.0</td>\n",
       "      <td>6012.0</td>\n",
       "      <td>NaN</td>\n",
       "      <td>2284.0</td>\n",
       "      <td>3095.0</td>\n",
       "      <td>12126.0</td>\n",
       "      <td>2207.0</td>\n",
       "    </tr>\n",
       "    <tr>\n",
       "      <th>719</th>\n",
       "      <td>01</td>\n",
       "      <td>010221</td>\n",
       "      <td>2014</td>\n",
       "      <td>171041</td>\n",
       "      <td>53080.0</td>\n",
       "      <td>4044.0</td>\n",
       "      <td>2982.0</td>\n",
       "      <td>4862.0</td>\n",
       "      <td>2068.0</td>\n",
       "      <td>3050.0</td>\n",
       "      <td>...</td>\n",
       "      <td>63518.0</td>\n",
       "      <td>36432.0</td>\n",
       "      <td>908.0</td>\n",
       "      <td>18083.0</td>\n",
       "      <td>6012.0</td>\n",
       "      <td>NaN</td>\n",
       "      <td>2284.0</td>\n",
       "      <td>3095.0</td>\n",
       "      <td>12126.0</td>\n",
       "      <td>2207.0</td>\n",
       "    </tr>\n",
       "    <tr>\n",
       "      <th>...</th>\n",
       "      <td>...</td>\n",
       "      <td>...</td>\n",
       "      <td>...</td>\n",
       "      <td>...</td>\n",
       "      <td>...</td>\n",
       "      <td>...</td>\n",
       "      <td>...</td>\n",
       "      <td>...</td>\n",
       "      <td>...</td>\n",
       "      <td>...</td>\n",
       "      <td>...</td>\n",
       "      <td>...</td>\n",
       "      <td>...</td>\n",
       "      <td>...</td>\n",
       "      <td>...</td>\n",
       "      <td>...</td>\n",
       "      <td>...</td>\n",
       "      <td>...</td>\n",
       "      <td>...</td>\n",
       "      <td>...</td>\n",
       "      <td>...</td>\n",
       "    </tr>\n",
       "    <tr>\n",
       "      <th>1493</th>\n",
       "      <td>12</td>\n",
       "      <td>122311</td>\n",
       "      <td>2014</td>\n",
       "      <td>69265</td>\n",
       "      <td>22149.0</td>\n",
       "      <td>1174.0</td>\n",
       "      <td>894.0</td>\n",
       "      <td>1743.0</td>\n",
       "      <td>606.0</td>\n",
       "      <td>460.0</td>\n",
       "      <td>...</td>\n",
       "      <td>24975.0</td>\n",
       "      <td>14664.0</td>\n",
       "      <td>490.0</td>\n",
       "      <td>5599.0</td>\n",
       "      <td>1572.0</td>\n",
       "      <td>NaN</td>\n",
       "      <td>823.0</td>\n",
       "      <td>550.0</td>\n",
       "      <td>6369.0</td>\n",
       "      <td>432.0</td>\n",
       "    </tr>\n",
       "    <tr>\n",
       "      <th>1499</th>\n",
       "      <td>12</td>\n",
       "      <td>123012</td>\n",
       "      <td>2014</td>\n",
       "      <td>69265</td>\n",
       "      <td>22149.0</td>\n",
       "      <td>1174.0</td>\n",
       "      <td>894.0</td>\n",
       "      <td>1743.0</td>\n",
       "      <td>606.0</td>\n",
       "      <td>460.0</td>\n",
       "      <td>...</td>\n",
       "      <td>24975.0</td>\n",
       "      <td>14664.0</td>\n",
       "      <td>490.0</td>\n",
       "      <td>5599.0</td>\n",
       "      <td>1572.0</td>\n",
       "      <td>NaN</td>\n",
       "      <td>823.0</td>\n",
       "      <td>550.0</td>\n",
       "      <td>6369.0</td>\n",
       "      <td>432.0</td>\n",
       "    </tr>\n",
       "    <tr>\n",
       "      <th>1505</th>\n",
       "      <td>12</td>\n",
       "      <td>123021</td>\n",
       "      <td>2014</td>\n",
       "      <td>69265</td>\n",
       "      <td>22149.0</td>\n",
       "      <td>1174.0</td>\n",
       "      <td>894.0</td>\n",
       "      <td>1743.0</td>\n",
       "      <td>606.0</td>\n",
       "      <td>460.0</td>\n",
       "      <td>...</td>\n",
       "      <td>24975.0</td>\n",
       "      <td>14664.0</td>\n",
       "      <td>490.0</td>\n",
       "      <td>5599.0</td>\n",
       "      <td>1572.0</td>\n",
       "      <td>NaN</td>\n",
       "      <td>823.0</td>\n",
       "      <td>550.0</td>\n",
       "      <td>6369.0</td>\n",
       "      <td>432.0</td>\n",
       "    </tr>\n",
       "    <tr>\n",
       "      <th>1511</th>\n",
       "      <td>12</td>\n",
       "      <td>123022</td>\n",
       "      <td>2014</td>\n",
       "      <td>69265</td>\n",
       "      <td>22149.0</td>\n",
       "      <td>1174.0</td>\n",
       "      <td>894.0</td>\n",
       "      <td>1743.0</td>\n",
       "      <td>606.0</td>\n",
       "      <td>460.0</td>\n",
       "      <td>...</td>\n",
       "      <td>24975.0</td>\n",
       "      <td>14664.0</td>\n",
       "      <td>490.0</td>\n",
       "      <td>5599.0</td>\n",
       "      <td>1572.0</td>\n",
       "      <td>NaN</td>\n",
       "      <td>823.0</td>\n",
       "      <td>550.0</td>\n",
       "      <td>6369.0</td>\n",
       "      <td>432.0</td>\n",
       "    </tr>\n",
       "    <tr>\n",
       "      <th>1517</th>\n",
       "      <td>12</td>\n",
       "      <td>123043</td>\n",
       "      <td>2014</td>\n",
       "      <td>69265</td>\n",
       "      <td>22149.0</td>\n",
       "      <td>1174.0</td>\n",
       "      <td>894.0</td>\n",
       "      <td>1743.0</td>\n",
       "      <td>606.0</td>\n",
       "      <td>460.0</td>\n",
       "      <td>...</td>\n",
       "      <td>24975.0</td>\n",
       "      <td>14664.0</td>\n",
       "      <td>490.0</td>\n",
       "      <td>5599.0</td>\n",
       "      <td>1572.0</td>\n",
       "      <td>NaN</td>\n",
       "      <td>823.0</td>\n",
       "      <td>550.0</td>\n",
       "      <td>6369.0</td>\n",
       "      <td>432.0</td>\n",
       "    </tr>\n",
       "  </tbody>\n",
       "</table>\n",
       "<p>138 rows × 32 columns</p>\n",
       "</div>"
      ],
      "text/plain": [
       "     Bezirk     LOR  year  total_foreigners       EU     FRA     GRC     ITA  \\\n",
       "695      01  010111  2014            171041  53080.0  4044.0  2982.0  4862.0   \n",
       "701      01  010112  2014            171041  53080.0  4044.0  2982.0  4862.0   \n",
       "707      01  010113  2014            171041  53080.0  4044.0  2982.0  4862.0   \n",
       "713      01  010114  2014            171041  53080.0  4044.0  2982.0  4862.0   \n",
       "719      01  010221  2014            171041  53080.0  4044.0  2982.0  4862.0   \n",
       "...     ...     ...   ...               ...      ...     ...     ...     ...   \n",
       "1493     12  122311  2014             69265  22149.0  1174.0   894.0  1743.0   \n",
       "1499     12  123012  2014             69265  22149.0  1174.0   894.0  1743.0   \n",
       "1505     12  123021  2014             69265  22149.0  1174.0   894.0  1743.0   \n",
       "1511     12  123022  2014             69265  22149.0  1174.0   894.0  1743.0   \n",
       "1517     12  123043  2014             69265  22149.0  1174.0   894.0  1743.0   \n",
       "\n",
       "         AUT     ESP  ...  Islamic_countries      TUR    IRN  \\\n",
       "695   2068.0  3050.0  ...            63518.0  36432.0  908.0   \n",
       "701   2068.0  3050.0  ...            63518.0  36432.0  908.0   \n",
       "707   2068.0  3050.0  ...            63518.0  36432.0  908.0   \n",
       "713   2068.0  3050.0  ...            63518.0  36432.0  908.0   \n",
       "719   2068.0  3050.0  ...            63518.0  36432.0  908.0   \n",
       "...      ...     ...  ...                ...      ...    ...   \n",
       "1493   606.0   460.0  ...            24975.0  14664.0  490.0   \n",
       "1499   606.0   460.0  ...            24975.0  14664.0  490.0   \n",
       "1505   606.0   460.0  ...            24975.0  14664.0  490.0   \n",
       "1511   606.0   460.0  ...            24975.0  14664.0  490.0   \n",
       "1517   606.0   460.0  ...            24975.0  14664.0  490.0   \n",
       "\n",
       "      Arabic_countries     LBN  SYR     VNM     USA  not_identified     CHN  \n",
       "695            18083.0  6012.0  NaN  2284.0  3095.0         12126.0  2207.0  \n",
       "701            18083.0  6012.0  NaN  2284.0  3095.0         12126.0  2207.0  \n",
       "707            18083.0  6012.0  NaN  2284.0  3095.0         12126.0  2207.0  \n",
       "713            18083.0  6012.0  NaN  2284.0  3095.0         12126.0  2207.0  \n",
       "719            18083.0  6012.0  NaN  2284.0  3095.0         12126.0  2207.0  \n",
       "...                ...     ...  ...     ...     ...             ...     ...  \n",
       "1493            5599.0  1572.0  NaN   823.0   550.0          6369.0   432.0  \n",
       "1499            5599.0  1572.0  NaN   823.0   550.0          6369.0   432.0  \n",
       "1505            5599.0  1572.0  NaN   823.0   550.0          6369.0   432.0  \n",
       "1511            5599.0  1572.0  NaN   823.0   550.0          6369.0   432.0  \n",
       "1517            5599.0  1572.0  NaN   823.0   550.0          6369.0   432.0  \n",
       "\n",
       "[138 rows x 32 columns]"
      ]
     },
     "execution_count": 23,
     "metadata": {},
     "output_type": "execute_result"
    }
   ],
   "source": [
    "migr[migr['year']==2014]"
   ]
  },
  {
   "cell_type": "code",
   "execution_count": null,
   "metadata": {},
   "outputs": [],
   "source": []
  }
 ],
 "metadata": {
  "kernelspec": {
   "display_name": "Python 3",
   "language": "python",
   "name": "python3"
  },
  "language_info": {
   "codemirror_mode": {
    "name": "ipython",
    "version": 3
   },
   "file_extension": ".py",
   "mimetype": "text/x-python",
   "name": "python",
   "nbconvert_exporter": "python",
   "pygments_lexer": "ipython3",
   "version": "3.6.10"
  }
 },
 "nbformat": 4,
 "nbformat_minor": 4
}
