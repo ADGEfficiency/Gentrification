{
 "cells": [
  {
   "cell_type": "code",
   "execution_count": 1,
   "metadata": {},
   "outputs": [],
   "source": [
    "import pandas as pd"
   ]
  },
  {
   "cell_type": "code",
   "execution_count": 21,
   "metadata": {},
   "outputs": [],
   "source": [
    "file_path = './data/area/'\n",
    "\n",
    "parks = pd.read_excel(file_path+'Flächennutzung.xls')\n",
    "quality = pd.read_csv(file_path+'Wohnlage.csv', sep=';')\n",
    "bld_style = pd.read_excel(file_path+'Siedlungsstruktur.xlsx')"
   ]
  },
  {
   "cell_type": "markdown",
   "metadata": {},
   "source": [
    "### Area per sqm (incl. parks and living area)"
   ]
  },
  {
   "cell_type": "code",
   "execution_count": 3,
   "metadata": {
    "scrolled": false
   },
   "outputs": [],
   "source": [
    "parks.replace('-', 0, inplace=True)"
   ]
  },
  {
   "cell_type": "code",
   "execution_count": 4,
   "metadata": {},
   "outputs": [],
   "source": [
    "parks['Nummer Planungsraum'] = parks['Nummer Planungsraum'].apply('{:0>8}'.format)\n",
    "\n",
    "#extracting LOR key from Nummer Planungsraum\n",
    "parks['LOR'] = parks['Nummer Planungsraum'].apply(lambda x: x[:6])"
   ]
  },
  {
   "cell_type": "code",
   "execution_count": 5,
   "metadata": {},
   "outputs": [],
   "source": [
    "#grouping by LOR\n",
    "parks_per_lor = parks.groupby('LOR').sum().reset_index()"
   ]
  },
  {
   "cell_type": "code",
   "execution_count": 6,
   "metadata": {
    "scrolled": false
   },
   "outputs": [
    {
     "data": {
      "text/plain": [
       "Index(['LOR', 'Größe des Planungsraums [m²]',\n",
       "       'Summe der Block- Blockteilflächen [m²]', 'Straßen [m²]',\n",
       "       'Wohngebiete [m²]', 'Mischgebiete [m²]', 'Kerngebiete [m²]',\n",
       "       'Gewerbe- und Industriegebiete [m²]',\n",
       "       'Gemeinbedarfs- und Sondernutzungen [m²]',\n",
       "       'Ver- und Entsorgungseinrichtungen [m²]', 'Wochenendhausgebiete [m²]',\n",
       "       'Verkehrsflächen (außer Straßenland) [m²]', 'Wald [m²]',\n",
       "       'Grünland (Wiesen und Weiden) [m²]', 'Ackerland [m²]',\n",
       "       'Park, Grünflächen [m²]', 'Stadtplätze/Promenaden [m²]',\n",
       "       'Friedhöfe [m²]', 'Kleingärten [m²]',\n",
       "       'Brachfläche, vegetationsfrei [m²]',\n",
       "       'Brachfläche, wiesenartiger Vegetationsbestand [m²]',\n",
       "       'Brachfläche, Mischbestand aus Wiesen, Gebüsch und Bäumen [m²]',\n",
       "       'Baumschule / Gartenbau [m²]', 'Gewässer [m²]'],\n",
       "      dtype='object')"
      ]
     },
     "execution_count": 6,
     "metadata": {},
     "output_type": "execute_result"
    }
   ],
   "source": [
    "parks_per_lor.columns"
   ]
  },
  {
   "cell_type": "code",
   "execution_count": 7,
   "metadata": {},
   "outputs": [],
   "source": [
    "parks_per_lor.columns = ['LOR', 'area', 'block_area', 'street_area', 'living_area', 'mixed_area', \n",
    "                         'central_area', 'industrial_area', 'special_area', 'disposal_area',\n",
    "                         'datscha_area', 'traffic_area', 'forest_area', 'greens_area', 'farm_area',\n",
    "                         'park_area', 'platz_area', 'cemetery_area', 'garden_area', 'fallow_no_veg',\n",
    "                         'fallow_veg', 'fallow_mixed', 'nursery_area', 'water_area']"
   ]
  },
  {
   "cell_type": "code",
   "execution_count": 8,
   "metadata": {},
   "outputs": [],
   "source": [
    "parks_per_lor['leisure_area'] = parks_per_lor['park_area'] + parks_per_lor['cemetery_area']"
   ]
  },
  {
   "cell_type": "code",
   "execution_count": 9,
   "metadata": {},
   "outputs": [],
   "source": [
    "parks_final = parks_per_lor[['LOR', 'area', 'living_area', 'leisure_area']]"
   ]
  },
  {
   "cell_type": "markdown",
   "metadata": {},
   "source": [
    "### Quality"
   ]
  },
  {
   "cell_type": "code",
   "execution_count": 37,
   "metadata": {},
   "outputs": [],
   "source": [
    "quality['RAUMID'] = quality['RAUMID'].apply('{:0>8}'.format)\n",
    "\n",
    "#extracting LOR key from Nummer Planungsraum\n",
    "quality['LOR'] = quality['RAUMID'].apply(lambda x: x[:6])"
   ]
  },
  {
   "cell_type": "code",
   "execution_count": 38,
   "metadata": {},
   "outputs": [],
   "source": [
    "quality_per_lor = quality.groupby('LOR').sum().reset_index()"
   ]
  },
  {
   "cell_type": "code",
   "execution_count": 40,
   "metadata": {},
   "outputs": [],
   "source": [
    "quality_per_lor['total'] = quality_per_lor[['WLEINFoL','WLEINFmL', 'WLMIToL', 'WLMITmL',\n",
    "                                            'WLGUToL', 'WLGUTmL', 'WLNZORD']].sum(axis=1)"
   ]
  },
  {
   "cell_type": "code",
   "execution_count": 43,
   "metadata": {},
   "outputs": [],
   "source": [
    "quality_per_lor['lower_quality'] = quality_per_lor[['WLEINFoL','WLEINFmL']].sum(axis=1) / quality_per_lor['total']\n",
    "quality_per_lor['average_quality'] = quality_per_lor[['WLMIToL', 'WLMITmL']].sum(axis=1) / quality_per_lor['total']\n",
    "quality_per_lor['upper_quality'] = quality_per_lor[['WLGUToL', 'WLGUTmL']].sum(axis=1) / quality_per_lor['total']"
   ]
  },
  {
   "cell_type": "code",
   "execution_count": 45,
   "metadata": {},
   "outputs": [],
   "source": [
    "quality_final = quality_per_lor[['LOR', 'lower_quality', 'average_quality', 'upper_quality']]"
   ]
  },
  {
   "cell_type": "markdown",
   "metadata": {},
   "source": [
    "### Urbanisation style"
   ]
  },
  {
   "cell_type": "code",
   "execution_count": 48,
   "metadata": {
    "scrolled": true
   },
   "outputs": [],
   "source": [
    "bld_style['LOR'] = bld_style['Nummer'].astype('int').apply('{:0>6}'.format)"
   ]
  },
  {
   "cell_type": "code",
   "execution_count": 50,
   "metadata": {},
   "outputs": [],
   "source": [
    "urbanisation = bld_style[['LOR', 'Hauptprägung']]\n",
    "urbanisation.columns = ['LOR', 'urban_style']"
   ]
  },
  {
   "cell_type": "markdown",
   "metadata": {},
   "source": [
    "### Combining dataframes"
   ]
  },
  {
   "cell_type": "code",
   "execution_count": 52,
   "metadata": {},
   "outputs": [],
   "source": [
    "area = parks_final.merge(quality_final, on='LOR')\\\n",
    "        .merge(urbanisation, on='LOR')"
   ]
  },
  {
   "cell_type": "code",
   "execution_count": 53,
   "metadata": {},
   "outputs": [
    {
     "data": {
      "text/html": [
       "<div>\n",
       "<style scoped>\n",
       "    .dataframe tbody tr th:only-of-type {\n",
       "        vertical-align: middle;\n",
       "    }\n",
       "\n",
       "    .dataframe tbody tr th {\n",
       "        vertical-align: top;\n",
       "    }\n",
       "\n",
       "    .dataframe thead th {\n",
       "        text-align: right;\n",
       "    }\n",
       "</style>\n",
       "<table border=\"1\" class=\"dataframe\">\n",
       "  <thead>\n",
       "    <tr style=\"text-align: right;\">\n",
       "      <th></th>\n",
       "      <th>LOR</th>\n",
       "      <th>area</th>\n",
       "      <th>living_area</th>\n",
       "      <th>leisure_area</th>\n",
       "      <th>lower_quality</th>\n",
       "      <th>average_quality</th>\n",
       "      <th>upper_quality</th>\n",
       "      <th>urban_style</th>\n",
       "    </tr>\n",
       "  </thead>\n",
       "  <tbody>\n",
       "    <tr>\n",
       "      <th>0</th>\n",
       "      <td>010111</td>\n",
       "      <td>5165169</td>\n",
       "      <td>124902</td>\n",
       "      <td>2002658</td>\n",
       "      <td>0.046380</td>\n",
       "      <td>0.756490</td>\n",
       "      <td>0.196129</td>\n",
       "      <td>Verdichtete Blockrandbebauung</td>\n",
       "    </tr>\n",
       "    <tr>\n",
       "      <th>1</th>\n",
       "      <td>010112</td>\n",
       "      <td>2702649</td>\n",
       "      <td>178220</td>\n",
       "      <td>27498</td>\n",
       "      <td>0.000000</td>\n",
       "      <td>0.124392</td>\n",
       "      <td>0.870742</td>\n",
       "      <td>Großsiedlungen der 60er - 80er Jahre</td>\n",
       "    </tr>\n",
       "    <tr>\n",
       "      <th>2</th>\n",
       "      <td>010113</td>\n",
       "      <td>6228553</td>\n",
       "      <td>1008603</td>\n",
       "      <td>246654</td>\n",
       "      <td>0.000363</td>\n",
       "      <td>0.655512</td>\n",
       "      <td>0.341050</td>\n",
       "      <td>Verdichtete Blockrandbebauung</td>\n",
       "    </tr>\n",
       "    <tr>\n",
       "      <th>3</th>\n",
       "      <td>010114</td>\n",
       "      <td>1755444</td>\n",
       "      <td>620375</td>\n",
       "      <td>245531</td>\n",
       "      <td>0.000000</td>\n",
       "      <td>0.397393</td>\n",
       "      <td>0.602607</td>\n",
       "      <td>Verdichtete Blockrandbebauung</td>\n",
       "    </tr>\n",
       "    <tr>\n",
       "      <th>4</th>\n",
       "      <td>010221</td>\n",
       "      <td>4331156</td>\n",
       "      <td>965328</td>\n",
       "      <td>60415</td>\n",
       "      <td>0.755678</td>\n",
       "      <td>0.179795</td>\n",
       "      <td>0.064052</td>\n",
       "      <td>Verdichtete Blockrandbebauung</td>\n",
       "    </tr>\n",
       "    <tr>\n",
       "      <th>...</th>\n",
       "      <td>...</td>\n",
       "      <td>...</td>\n",
       "      <td>...</td>\n",
       "      <td>...</td>\n",
       "      <td>...</td>\n",
       "      <td>...</td>\n",
       "      <td>...</td>\n",
       "      <td>...</td>\n",
       "    </tr>\n",
       "    <tr>\n",
       "      <th>133</th>\n",
       "      <td>122311</td>\n",
       "      <td>13854910</td>\n",
       "      <td>7343199</td>\n",
       "      <td>1111912</td>\n",
       "      <td>0.000000</td>\n",
       "      <td>0.256306</td>\n",
       "      <td>0.743694</td>\n",
       "      <td>Einfamilienhausgebiete</td>\n",
       "    </tr>\n",
       "    <tr>\n",
       "      <th>134</th>\n",
       "      <td>123012</td>\n",
       "      <td>11825409</td>\n",
       "      <td>4098800</td>\n",
       "      <td>1630898</td>\n",
       "      <td>0.000412</td>\n",
       "      <td>0.999113</td>\n",
       "      <td>0.000000</td>\n",
       "      <td>Einfamilienhausgebiete</td>\n",
       "    </tr>\n",
       "    <tr>\n",
       "      <th>135</th>\n",
       "      <td>123021</td>\n",
       "      <td>3146413</td>\n",
       "      <td>1747281</td>\n",
       "      <td>123289</td>\n",
       "      <td>0.789693</td>\n",
       "      <td>0.210307</td>\n",
       "      <td>0.000000</td>\n",
       "      <td>Großsiedlungen der 60er - 80er Jahre</td>\n",
       "    </tr>\n",
       "    <tr>\n",
       "      <th>136</th>\n",
       "      <td>123022</td>\n",
       "      <td>1618108</td>\n",
       "      <td>748067</td>\n",
       "      <td>71730</td>\n",
       "      <td>0.947919</td>\n",
       "      <td>0.052081</td>\n",
       "      <td>0.000000</td>\n",
       "      <td>Großsiedlungen der 60er - 80er Jahre</td>\n",
       "    </tr>\n",
       "    <tr>\n",
       "      <th>137</th>\n",
       "      <td>123043</td>\n",
       "      <td>4081172</td>\n",
       "      <td>1537393</td>\n",
       "      <td>441725</td>\n",
       "      <td>0.409405</td>\n",
       "      <td>0.590595</td>\n",
       "      <td>0.000000</td>\n",
       "      <td>Siedlungsbau der 20er - 30er Jahre</td>\n",
       "    </tr>\n",
       "  </tbody>\n",
       "</table>\n",
       "<p>138 rows × 8 columns</p>\n",
       "</div>"
      ],
      "text/plain": [
       "        LOR      area  living_area  leisure_area  lower_quality  \\\n",
       "0    010111   5165169       124902       2002658       0.046380   \n",
       "1    010112   2702649       178220         27498       0.000000   \n",
       "2    010113   6228553      1008603        246654       0.000363   \n",
       "3    010114   1755444       620375        245531       0.000000   \n",
       "4    010221   4331156       965328         60415       0.755678   \n",
       "..      ...       ...          ...           ...            ...   \n",
       "133  122311  13854910      7343199       1111912       0.000000   \n",
       "134  123012  11825409      4098800       1630898       0.000412   \n",
       "135  123021   3146413      1747281        123289       0.789693   \n",
       "136  123022   1618108       748067         71730       0.947919   \n",
       "137  123043   4081172      1537393        441725       0.409405   \n",
       "\n",
       "     average_quality  upper_quality                           urban_style  \n",
       "0           0.756490       0.196129         Verdichtete Blockrandbebauung  \n",
       "1           0.124392       0.870742  Großsiedlungen der 60er - 80er Jahre  \n",
       "2           0.655512       0.341050         Verdichtete Blockrandbebauung  \n",
       "3           0.397393       0.602607         Verdichtete Blockrandbebauung  \n",
       "4           0.179795       0.064052         Verdichtete Blockrandbebauung  \n",
       "..               ...            ...                                   ...  \n",
       "133         0.256306       0.743694                Einfamilienhausgebiete  \n",
       "134         0.999113       0.000000                Einfamilienhausgebiete  \n",
       "135         0.210307       0.000000  Großsiedlungen der 60er - 80er Jahre  \n",
       "136         0.052081       0.000000  Großsiedlungen der 60er - 80er Jahre  \n",
       "137         0.590595       0.000000    Siedlungsbau der 20er - 30er Jahre  \n",
       "\n",
       "[138 rows x 8 columns]"
      ]
     },
     "execution_count": 53,
     "metadata": {},
     "output_type": "execute_result"
    }
   ],
   "source": [
    "area"
   ]
  },
  {
   "cell_type": "code",
   "execution_count": 54,
   "metadata": {},
   "outputs": [
    {
     "data": {
      "text/plain": [
       "['./dataframes/final_area.pkl']"
      ]
     },
     "execution_count": 54,
     "metadata": {},
     "output_type": "execute_result"
    }
   ],
   "source": [
    "import joblib\n",
    "\n",
    "joblib.dump(area, './dataframes/final_area.pkl')"
   ]
  },
  {
   "cell_type": "code",
   "execution_count": null,
   "metadata": {},
   "outputs": [],
   "source": []
  }
 ],
 "metadata": {
  "kernelspec": {
   "display_name": "Python 3",
   "language": "python",
   "name": "python3"
  },
  "language_info": {
   "codemirror_mode": {
    "name": "ipython",
    "version": 3
   },
   "file_extension": ".py",
   "mimetype": "text/x-python",
   "name": "python",
   "nbconvert_exporter": "python",
   "pygments_lexer": "ipython3",
   "version": "3.6.10"
  }
 },
 "nbformat": 4,
 "nbformat_minor": 4
}
