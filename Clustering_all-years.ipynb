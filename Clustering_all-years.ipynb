{
 "cells": [
  {
   "cell_type": "code",
   "execution_count": 19,
   "metadata": {},
   "outputs": [],
   "source": [
    "import joblib\n",
    "import matplotlib.pyplot as plt\n",
    "import numpy as np\n",
    "import pandas as pd\n",
    "from tqdm import tqdm"
   ]
  },
  {
   "cell_type": "code",
   "execution_count": 9,
   "metadata": {},
   "outputs": [],
   "source": [
    "df = joblib.load('./dataframes/final_all.pkl')"
   ]
  },
  {
   "cell_type": "code",
   "execution_count": 10,
   "metadata": {},
   "outputs": [],
   "source": [
    "#exclude year 2009 since it is considered using t-1 columns\n",
    "\n",
    "df = df[df['year']>=2010].copy()"
   ]
  },
  {
   "cell_type": "code",
   "execution_count": 11,
   "metadata": {},
   "outputs": [],
   "source": [
    "#create individual dataframe for each year\n",
    "\n",
    "years = [y for y in range(2010, 2020)]\n",
    "\n",
    "dataframes = {}\n",
    "\n",
    "for year in years:\n",
    "    dataframes[f'df_{year}'] = df[df['year']==year]"
   ]
  },
  {
   "cell_type": "code",
   "execution_count": 74,
   "metadata": {},
   "outputs": [
    {
     "data": {
      "text/plain": [
       "(138, 160)"
      ]
     },
     "execution_count": 74,
     "metadata": {},
     "output_type": "execute_result"
    }
   ],
   "source": [
    "dataframes['df_2019'].shape"
   ]
  },
  {
   "cell_type": "markdown",
   "metadata": {},
   "source": [
    "### Creating Clean Dataframe Class"
   ]
  },
  {
   "cell_type": "code",
   "execution_count": 12,
   "metadata": {},
   "outputs": [],
   "source": [
    "from sklearn.preprocessing import StandardScaler\n",
    "from sklearn.decomposition import PCA"
   ]
  },
  {
   "cell_type": "code",
   "execution_count": 13,
   "metadata": {},
   "outputs": [],
   "source": [
    "class CleanDataframe():\n",
    "    def __init__(self, _df):\n",
    "        self.df = _df\n",
    "        self.df_categorized = self.categorize()\n",
    "        self.df_scaled = self.scaling()\n",
    "        self.df_pca = self.pca()\n",
    "        \n",
    "    \n",
    "    def categorize(self):\n",
    "        dummies = pd.get_dummies(self.df['urban_style'])\n",
    "        df_categorized = pd.concat([self.df, dummies], axis=1)\n",
    "        df_categorized.drop('urban_style', axis=1, inplace=True)\n",
    "        df_categorized.rename(columns={'Einfamilienhausgebiete': 'urban_style_family',\n",
    "                                'Großsiedlungen der 60er - 80er Jahre': 'urban_style_60s',\n",
    "                                'Siedlungsbau der 20er - 30er Jahre': 'urban_style_20s',\n",
    "                                'Siedlungsbau der 50er Jahre': 'urban_style_50s',\n",
    "                                'Siedlungsbau der 90er - 2000er Jahre': 'urban_style_90s',\n",
    "                                'Verdichtete Blockrandbebauung': 'urban_style_old'\n",
    "                               }, inplace=True)\n",
    "        return df_categorized\n",
    "        \n",
    "        \n",
    "    def scaling(self):\n",
    "        self.df_categorized.fillna(0, inplace=True)\n",
    "        \n",
    "        features = self.df_categorized.columns.drop(['Bezirk', 'Bezirksregion', 'LOR', 'Bezirksname',\n",
    "                                                     'year', 'PLZ', 'total_Bezirk', 'perc_Bezirk_total',\n",
    "                                                     'total_Bezirk_t-1', 'perc_Bezirk_total_t-1',])\n",
    "        # Separating out the features\n",
    "        df_scaled = self.df_categorized.loc[:, features].values\n",
    "        # Standardizing the features\n",
    "        df_scaled = StandardScaler().fit_transform(df_scaled)\n",
    "        return df_scaled\n",
    "    \n",
    "    \n",
    "    def pca(self):\n",
    "        pca = PCA(n_components=2)\n",
    "        principalComponents = pca.fit_transform(self.df_scaled)\n",
    "        df_pca = pd.DataFrame(data = principalComponents,\n",
    "                              columns = ['pc_1', 'pc_2'])\n",
    "        return df_pca"
   ]
  },
  {
   "cell_type": "markdown",
   "metadata": {},
   "source": [
    "### Gaussian Mixture Model - Choosing number of components K"
   ]
  },
  {
   "cell_type": "code",
   "execution_count": 14,
   "metadata": {},
   "outputs": [],
   "source": [
    "from sklearn.cluster import KMeans\n",
    "from sklearn.mixture import GaussianMixture"
   ]
  },
  {
   "cell_type": "code",
   "execution_count": 16,
   "metadata": {},
   "outputs": [
    {
     "name": "stderr",
     "output_type": "stream",
     "text": [
      "100%|██████████| 100/100 [00:25<00:00,  3.88it/s]\n",
      "100%|██████████| 100/100 [00:25<00:00,  3.94it/s]\n",
      "100%|██████████| 100/100 [00:24<00:00,  4.10it/s]\n",
      "100%|██████████| 100/100 [00:24<00:00,  4.09it/s]\n",
      "100%|██████████| 100/100 [00:24<00:00,  4.12it/s]\n",
      "100%|██████████| 100/100 [00:26<00:00,  3.76it/s]\n",
      "100%|██████████| 100/100 [00:26<00:00,  3.78it/s]\n",
      "100%|██████████| 100/100 [00:26<00:00,  3.79it/s]\n",
      "100%|██████████| 100/100 [00:27<00:00,  3.68it/s]\n",
      "100%|██████████| 100/100 [00:32<00:00,  3.07it/s]\n"
     ]
    }
   ],
   "source": [
    "#finding the best cv_type/compontents combination for each year\n",
    "\n",
    "eval_dict = {}\n",
    "for key in dataframes.keys():\n",
    "    bic = {}\n",
    "    for i in tqdm(range(100)):\n",
    "        X = CleanDataframe(dataframes[key]).df_scaled\n",
    "        \n",
    "        n_components_range = range(4, 8)\n",
    "        cv_types = ['spherical', 'tied', 'diag', 'full']\n",
    "        lowest_bic = np.infty\n",
    "        for cv_type in cv_types:\n",
    "            for n_components in n_components_range:\n",
    "                # Fit a Gaussian mixture with EM\n",
    "                gmm = GaussianMixture(n_components=n_components,\n",
    "                                      covariance_type=cv_type)\n",
    "                gmm.fit(X)\n",
    "                \n",
    "                if gmm.bic(X) < lowest_bic:\n",
    "                    lowest_bic = gmm.bic(X)\n",
    "                    best_n_components  = n_components\n",
    "                    best_cv_type = cv_type\n",
    "                    \n",
    "                if '_'.join([best_cv_type, str(best_n_components)]) in bic.keys():\n",
    "                    bic['_'.join([best_cv_type, str(best_n_components)])] += 1\n",
    "                else:\n",
    "                    bic['_'.join([best_cv_type, str(best_n_components)])] = 1\n",
    "            \n",
    "    eval_dict[key] = bic"
   ]
  },
  {
   "cell_type": "code",
   "execution_count": 17,
   "metadata": {},
   "outputs": [
    {
     "name": "stdout",
     "output_type": "stream",
     "text": [
      "{'df_2010': {'spherical_4': 109,\n",
      "             'spherical_5': 108,\n",
      "             'spherical_6': 114,\n",
      "             'spherical_7': 69,\n",
      "             'tied_4': 596,\n",
      "             'tied_5': 196,\n",
      "             'tied_6': 192,\n",
      "             'tied_7': 216},\n",
      " 'df_2011': {'spherical_4': 105,\n",
      "             'spherical_5': 112,\n",
      "             'spherical_6': 101,\n",
      "             'spherical_7': 82,\n",
      "             'tied_4': 618,\n",
      "             'tied_5': 158,\n",
      "             'tied_6': 163,\n",
      "             'tied_7': 261},\n",
      " 'df_2012': {'spherical_4': 106,\n",
      "             'spherical_5': 100,\n",
      "             'spherical_6': 112,\n",
      "             'spherical_7': 82,\n",
      "             'tied_4': 516,\n",
      "             'tied_5': 250,\n",
      "             'tied_6': 164,\n",
      "             'tied_7': 270},\n",
      " 'df_2013': {'spherical_4': 106,\n",
      "             'spherical_5': 105,\n",
      "             'spherical_6': 116,\n",
      "             'spherical_7': 73,\n",
      "             'tied_4': 619,\n",
      "             'tied_5': 173,\n",
      "             'tied_6': 192,\n",
      "             'tied_7': 216},\n",
      " 'df_2014': {'spherical_4': 103,\n",
      "             'spherical_5': 112,\n",
      "             'spherical_6': 112,\n",
      "             'spherical_7': 73,\n",
      "             'tied_4': 494,\n",
      "             'tied_5': 248,\n",
      "             'tied_6': 224,\n",
      "             'tied_7': 234},\n",
      " 'df_2015': {'spherical_4': 111,\n",
      "             'spherical_5': 130,\n",
      "             'spherical_6': 94,\n",
      "             'spherical_7': 65,\n",
      "             'tied_4': 1158,\n",
      "             'tied_5': 33,\n",
      "             'tied_7': 9},\n",
      " 'df_2016': {'diag_5': 71,\n",
      "             'diag_6': 267,\n",
      "             'diag_7': 245,\n",
      "             'spherical_4': 114,\n",
      "             'spherical_5': 130,\n",
      "             'spherical_6': 109,\n",
      "             'spherical_7': 47,\n",
      "             'tied_4': 115,\n",
      "             'tied_5': 106,\n",
      "             'tied_6': 134,\n",
      "             'tied_7': 262},\n",
      " 'df_2017': {'diag_5': 48,\n",
      "             'diag_6': 139,\n",
      "             'diag_7': 220,\n",
      "             'spherical_4': 117,\n",
      "             'spherical_5': 127,\n",
      "             'spherical_6': 105,\n",
      "             'spherical_7': 51,\n",
      "             'tied_4': 122,\n",
      "             'tied_5': 96,\n",
      "             'tied_6': 139,\n",
      "             'tied_7': 436},\n",
      " 'df_2018': {'diag_6': 40,\n",
      "             'diag_7': 190,\n",
      "             'spherical_4': 122,\n",
      "             'spherical_5': 132,\n",
      "             'spherical_6': 103,\n",
      "             'spherical_7': 43,\n",
      "             'tied_4': 118,\n",
      "             'tied_5': 98,\n",
      "             'tied_6': 171,\n",
      "             'tied_7': 583},\n",
      " 'df_2019': {'diag_5': 8,\n",
      "             'diag_6': 131,\n",
      "             'diag_7': 200,\n",
      "             'spherical_4': 123,\n",
      "             'spherical_5': 130,\n",
      "             'spherical_6': 96,\n",
      "             'spherical_7': 51,\n",
      "             'tied_4': 118,\n",
      "             'tied_5': 120,\n",
      "             'tied_6': 137,\n",
      "             'tied_7': 486}}\n"
     ]
    }
   ],
   "source": [
    "import pprint\n",
    "\n",
    "pprint.pprint(eval_dict)"
   ]
  },
  {
   "cell_type": "code",
   "execution_count": 33,
   "metadata": {},
   "outputs": [
    {
     "data": {
      "image/png": "[encoded data removed]",
      "text/plain": [
       "<Figure size 576x432 with 1 Axes>"
      ]
     },
     "metadata": {
      "needs_background": "light"
     },
     "output_type": "display_data"
    }
   ],
   "source": [
    "import itertools\n",
    "\n",
    "X = CleanDataframe(dataframes['df_2019']).df_scaled\n",
    "\n",
    "bic = []\n",
    "n_components_range = range(4, 8)\n",
    "cv_types = ['spherical', 'tied', 'diag', 'full']\n",
    "for cv_type in cv_types:\n",
    "    for n_components in n_components_range:\n",
    "        # Fit a Gaussian mixture with EM\n",
    "        gmm = GaussianMixture(n_components=n_components,\n",
    "                              covariance_type=cv_type)\n",
    "        gmm.fit(X)\n",
    "        bic.append(gmm.bic(X))\n",
    "\n",
    "bic = np.array(bic)\n",
    "color_iter = itertools.cycle(['navy', 'turquoise', 'cornflowerblue',\n",
    "                              'darkorange'])\n",
    "bars = []\n",
    "\n",
    "# Plot the BIC scores\n",
    "plt.figure(figsize=(8, 6))\n",
    "for i, (cv_type, color) in enumerate(zip(cv_types, color_iter)):\n",
    "    xpos = np.array(n_components_range) + .2 * (i - 2)\n",
    "    bars.append(plt.bar(xpos, bic[i * len(n_components_range):\n",
    "                                  (i + 1) * len(n_components_range)],\n",
    "                        width=.2, color=color))\n",
    "plt.xticks(n_components_range)\n",
    "plt.ylim([bic.min() * 1.01 - .01 * bic.max(), bic.max()])\n",
    "plt.title('BIC score per model')\n",
    "plt.xlabel('Number of components')\n",
    "plt.legend([b[0] for b in bars], cv_types)\n",
    "\n",
    "plt.title('Selected GMM: tied model, 7 components')\n",
    "plt.subplots_adjust(hspace=.35, bottom=.02)\n",
    "plt.show()"
   ]
  },
  {
   "cell_type": "code",
   "execution_count": 22,
   "metadata": {},
   "outputs": [],
   "source": [
    "import plotly.express as px\n",
    "import plotly.graph_objects as go"
   ]
  },
  {
   "cell_type": "code",
   "execution_count": 91,
   "metadata": {},
   "outputs": [],
   "source": [
    "class Cluster(CleanDataframe):\n",
    "    def __init__(self, _df, _n_clusters, _clustering_method):\n",
    "        CleanDataframe.__init__(self, _df)\n",
    "        self.n_clusters = _n_clusters\n",
    "        self.clustering_method = _clustering_method\n",
    "        if self.clustering_method == 'k_means':\n",
    "            self.clusters, self.cluster_centers = self.k_means_clustering()\n",
    "        else:\n",
    "            self.clusters, self.bic = self.gaussian_clustering()\n",
    "        \n",
    "    def k_means_clustering(self):\n",
    "        X = self.df_scaled\n",
    "        kmeans = KMeans(n_clusters=self.n_clusters)\n",
    "        kmeans.fit(X)\n",
    "        clusters = kmeans.predict(X)\n",
    "        cluster_centers = pd.DataFrame(kmeans.fit(self.df_pca).cluster_centers_)\n",
    "        return clusters, cluster_centers\n",
    "    \n",
    "    \n",
    "    def gaussian_clustering(self):\n",
    "        X = self.df_scaled\n",
    "        gaussian = GaussianMixture(n_components=self.n_clusters,\n",
    "                                   covariance_type='tied',\n",
    "                                   random_state=42)\n",
    "        gaussian.fit(X)\n",
    "        clusters = gaussian.predict(X)\n",
    "        bic = gaussian.bic(X)\n",
    "        return clusters, bic\n",
    "    \n",
    "    def visualize_clusters(self):\n",
    "        viz_df = pd.concat([self.df_categorized[['Bezirk', 'Bezirksname']].reset_index(),\n",
    "                            self.df_pca,\n",
    "                            pd.Series(self.clusters, name='cluster')],\n",
    "                           axis=1)\n",
    "        fig = px.scatter(viz_df,\n",
    "                        x='pc_1',\n",
    "                        y='pc_2',\n",
    "                        color='cluster',\n",
    "                        hover_name='Bezirksname',\n",
    "                        hover_data=['Bezirk'],\n",
    "                        #range_x=[-20, 40],\n",
    "                        #range_y=[-10, 25]\n",
    "                        )\n",
    "        fig.update_traces(marker=dict(size=10))\n",
    "\n",
    "        if self.clustering_method == 'k_means':\n",
    "            fig.add_trace(\n",
    "                go.Scatter(\n",
    "                    x=self.cluster_centers.iloc[:, 0],\n",
    "                    y=self.cluster_centers.iloc[:, 1],\n",
    "                    mode=\"markers\",\n",
    "                    marker=dict(size=15,\n",
    "                                 color='DarkSlateGrey',\n",
    "                                 opacity=0.2\n",
    "                                ),\n",
    "                    showlegend=False\n",
    "                )\n",
    "            )\n",
    "        fig.show()"
   ]
  },
  {
   "cell_type": "code",
   "execution_count": 69,
   "metadata": {},
   "outputs": [
    {
     "data": {
      "application/vnd.plotly.v1+json": {
       "config": {
        "plotlyServerURL": "https://plot.ly"
       },
       "data": [
        {
         "customdata": [
          [
           "01"
          ],
          [
           "01"
          ],
          [
           "01"
          ],
          [
           "01"
          ],
          [
           "01"
          ],
          [
           "01"
          ],
          [
           "01"
          ],
          [
           "01"
          ],
          [
           "01"
          ],
          [
           "01"
          ],
          [
           "02"
          ],
          [
           "02"
          ],
          [
           "02"
          ],
          [
           "02"
          ],
          [
           "02"
          ],
          [
           "02"
          ],
          [
           "02"
          ],
          [
           "02"
          ],
          [
           "03"
          ],
          [
           "03"
          ],
          [
           "03"
          ],
          [
           "03"
          ],
          [
           "03"
          ],
          [
           "03"
          ],
          [
           "03"
          ],
          [
           "03"
          ],
          [
           "03"
          ],
          [
           "03"
          ],
          [
           "03"
          ],
          [
           "03"
          ],
          [
           "03"
          ],
          [
           "03"
          ],
          [
           "03"
          ],
          [
           "03"
          ],
          [
           "04"
          ],
          [
           "04"
          ],
          [
           "04"
          ],
          [
           "04"
          ],
          [
           "04"
          ],
          [
           "04"
          ],
          [
           "04"
          ],
          [
           "04"
          ],
          [
           "04"
          ],
          [
           "04"
          ],
          [
           "04"
          ],
          [
           "04"
          ],
          [
           "04"
          ],
          [
           "04"
          ],
          [
           "04"
          ],
          [
           "04"
          ],
          [
           "04"
          ],
          [
           "05"
          ],
          [
           "05"
          ],
          [
           "05"
          ],
          [
           "05"
          ],
          [
           "05"
          ],
          [
           "05"
          ],
          [
           "05"
          ],
          [
           "05"
          ],
          [
           "05"
          ],
          [
           "06"
          ],
          [
           "06"
          ],
          [
           "06"
          ],
          [
           "06"
          ],
          [
           "06"
          ],
          [
           "06"
          ],
          [
           "06"
          ],
          [
           "06"
          ],
          [
           "07"
          ],
          [
           "07"
          ],
          [
           "07"
          ],
          [
           "07"
          ],
          [
           "07"
          ],
          [
           "07"
          ],
          [
           "07"
          ],
          [
           "08"
          ],
          [
           "08"
          ],
          [
           "08"
          ],
          [
           "08"
          ],
          [
           "08"
          ],
          [
           "08"
          ],
          [
           "08"
          ],
          [
           "08"
          ],
          [
           "08"
          ],
          [
           "08"
          ],
          [
           "09"
          ],
          [
           "09"
          ],
          [
           "09"
          ],
          [
           "09"
          ],
          [
           "09"
          ],
          [
           "09"
          ],
          [
           "09"
          ],
          [
           "09"
          ],
          [
           "09"
          ],
          [
           "09"
          ],
          [
           "09"
          ],
          [
           "09"
          ],
          [
           "09"
          ],
          [
           "09"
          ],
          [
           "09"
          ],
          [
           "09"
          ],
          [
           "09"
          ],
          [
           "09"
          ],
          [
           "09"
          ],
          [
           "09"
          ],
          [
           "10"
          ],
          [
           "10"
          ],
          [
           "10"
          ],
          [
           "10"
          ],
          [
           "10"
          ],
          [
           "10"
          ],
          [
           "10"
          ],
          [
           "10"
          ],
          [
           "10"
          ],
          [
           "11"
          ],
          [
           "11"
          ],
          [
           "11"
          ],
          [
           "11"
          ],
          [
           "11"
          ],
          [
           "11"
          ],
          [
           "11"
          ],
          [
           "11"
          ],
          [
           "11"
          ],
          [
           "11"
          ],
          [
           "11"
          ],
          [
           "11"
          ],
          [
           "11"
          ],
          [
           "12"
          ],
          [
           "12"
          ],
          [
           "12"
          ],
          [
           "12"
          ],
          [
           "12"
          ],
          [
           "12"
          ],
          [
           "12"
          ],
          [
           "12"
          ],
          [
           "12"
          ],
          [
           "12"
          ],
          [
           "12"
          ]
         ],
         "hovertemplate": "<b>%{hovertext}</b><br><br>pc_1=%{x}<br>pc_2=%{y}<br>Bezirk=%{customdata[0]}<br>cluster=%{marker.color}<extra></extra>",
         "hovertext": [
          "Tiergarten Süd",
          "Regierungsviertel",
          "Alexanderplatz",
          "Brunnenstraße Süd",
          "Moabit West",
          "Moabit Ost",
          "Osloer Straße",
          "Brunnenstraße Nord",
          "Parkviertel",
          "Wedding Zentrum",
          "Südliche Friedrichstadt",
          "Tempelhofer Vorstadt",
          "Nördliche Luisenstadt",
          "Südliche Luisenstadt",
          "Karl-Marx-Allee Nord",
          "Karl-Marx-Allee Süd",
          "Frankfurter Allee Nord",
          "Frankfurter Allee Süd FK",
          "Buch",
          "Blankenfelde/Niederschönhausen",
          "Buchholz",
          "Karow",
          "Blankenburg/Heinersdorf/Märchenland",
          "Schönholz/Wilhelmsruh/Rosenthal",
          "Pankow Zentrum",
          "Pankow Süd",
          "Weißensee",
          "Weißensee Ost",
          "Prenzlauer Berg Nordwest",
          "Prenzlauer Berg Nord",
          "Helmholtzplatz",
          "Prenzlauer Berg Ost",
          "Prenzlauer Berg Südwest",
          "Prenzlauer Berg Süd",
          "Charlottenburg Nord",
          "Heerstraße",
          "Westend",
          "Schloß Charlottenburg",
          "Mierendorffplatz",
          "Otto-Suhr-Allee",
          "Neue Kantstraße",
          "Kantstraße",
          "Kurfürstendamm",
          "Halensee",
          "Grunewald",
          "Schmargendorf",
          "Wiesbadener Straße",
          "Düsseldorfer Straße",
          "Barstraße",
          "Volkspark Wilmersdorf",
          "Forst Grunewald",
          "Hakenfelde",
          "Falkenhagener Feld",
          "Spandau Mitte",
          "Brunsbütteler Damm",
          "Heerstraße Nord",
          "Wilhelmstadt",
          "Haselhorst",
          "Siemensstadt",
          "Gatow/Kladow",
          "Schloßstraße",
          "Albrechtstraße",
          "Lankwitz",
          "Ostpreußendamm",
          "Teltower Damm",
          "Drakestraße",
          "Zehlendorf Südwest",
          "Zehlendorf Nord",
          "Schöneberg Nord",
          "Schöneberg Süd",
          "Friedenau",
          "Tempelhof",
          "Mariendorf",
          "Marienfelde",
          "Lichtenrade",
          "Schillerpromenade",
          "Neuköllner Mitte/Zentrum",
          "Reuterstraße",
          "Rixdorf",
          "Köllnische Heide",
          "Britz",
          "Buckow",
          "Gropiusstadt",
          "Buckow Nord",
          "Rudow",
          "Alt-Treptow",
          "Plänterwald",
          "Baumschulenweg",
          "Johannisthal",
          "Oberschöneweide",
          "Niederschöneweide",
          "Adlershof",
          "Köllnische Vorstadt/Spindlersfeld",
          "Altglienicke",
          "Bohnsdorf",
          "Grünau",
          "Schmöckwitz/Karolinenhof/Rauchfangswerder",
          "Köpenick Süd",
          "Allende-Viertel",
          "Altstadt-Kietz",
          "Müggelheim",
          "Friedrichshagen",
          "Rahnsdorf/Hessenwinkel",
          "Dammvorstadt",
          "Köpenick Nord",
          "Marzahn Nord",
          "Marzahn Mitte",
          "Marzahn Süd",
          "Hellersdorf Nord",
          "Hellersdorf Ost",
          "Hellersdorf Süd",
          "Biesdorf",
          "Kaulsdorf",
          "Mahlsdorf",
          "Malchow, Wartenberg und Falkenberg",
          "Neu-Hohenschönhausen Nord",
          "Neu-Hohenschönhausen Süd",
          "Alt-Hohenschönhausen Nord",
          "Alt-Hohenschönhausen Süd",
          "Fennpfuhl",
          "Alt-Lichtenberg",
          "Frankfurter Allee Süd",
          "Neu-Lichtenberg",
          "Friedrichsfelde Nord",
          "Friedrichsfelde Süd",
          "Rummelsburger Bucht",
          "Karlshorst",
          "Ost 1 - Reginhardstraße",
          "Ost 2 - Alt-Reinickendorf",
          "West 1 - Tegel-Süd/Flughafensee",
          "West 4 - Auguste-Viktoria-Allee",
          "West 5 - Tegel/Tegeler Forst",
          "West 2 - Heiligensee/Konradshöhe",
          "Nord 1 - Frohnau/Hermsdorf",
          "Nord 2 - Waidmannslust/Wittenau/Lübars",
          "MV 1 - Märkisches Viertel",
          "MV 2 - Rollbergesiedlung",
          "West 3 - Borsigwalde/Freie Scholle"
         ],
         "legendgroup": "",
         "marker": {
          "color": [
           0,
           0,
           3,
           3,
           5,
           5,
           5,
           5,
           5,
           5,
           5,
           5,
           0,
           3,
           2,
           2,
           3,
           3,
           4,
           4,
           4,
           4,
           4,
           4,
           2,
           2,
           2,
           2,
           3,
           3,
           3,
           2,
           3,
           3,
           1,
           0,
           0,
           0,
           0,
           0,
           0,
           0,
           0,
           0,
           0,
           0,
           0,
           0,
           0,
           0,
           0,
           1,
           1,
           1,
           4,
           1,
           1,
           4,
           4,
           4,
           0,
           1,
           1,
           1,
           0,
           0,
           0,
           0,
           5,
           5,
           0,
           5,
           1,
           1,
           1,
           5,
           5,
           5,
           5,
           1,
           1,
           1,
           1,
           4,
           1,
           2,
           2,
           2,
           4,
           2,
           2,
           2,
           2,
           4,
           4,
           4,
           4,
           4,
           2,
           2,
           4,
           4,
           4,
           2,
           2,
           6,
           6,
           6,
           6,
           6,
           6,
           4,
           4,
           4,
           4,
           6,
           6,
           6,
           6,
           6,
           2,
           4,
           2,
           6,
           6,
           2,
           2,
           1,
           1,
           4,
           1,
           4,
           4,
           4,
           4,
           1,
           4,
           4
          ],
          "coloraxis": "coloraxis",
          "size": 10,
          "symbol": "circle"
         },
         "mode": "markers",
         "name": "",
         "orientation": "v",
         "showlegend": false,
         "type": "scatter",
         "x": [
          1.095221726313698,
          -0.37395459782916746,
          10.991002414058785,
          7.272189966999242,
          10.918576058322136,
          7.777550383740198,
          10.28550229283353,
          8.788257480032758,
          8.092322102860631,
          16.73095663987111,
          10.026616317306829,
          15.690116061653367,
          3.425341384670597,
          5.531232823622947,
          -0.834961286114439,
          1.4778223557912282,
          3.9362088430357045,
          9.71551150886999,
          -5.806069378281459,
          -2.5830849616901115,
          -5.9541281930514645,
          -6.113590250060807,
          -5.811624322573482,
          -4.217011347702854,
          -0.3407871571139955,
          -0.5834069412479497,
          0.5962702341277424,
          -5.419441374789614,
          3.120852734025696,
          1.4458453751239047,
          3.1210436595762348,
          -1.0129605861361746,
          5.070446228190045,
          4.011247090286399,
          -1.2766615292142456,
          -2.0592736722555474,
          1.4614461165820538,
          2.2090570299322385,
          -0.24752294879887451,
          3.6426367135423114,
          3.429906703618975,
          3.314745325767643,
          0.7638628738625153,
          -0.10395023412032867,
          -0.7838069882391934,
          -2.080381559877116,
          -1.194169967715923,
          4.630981353235834,
          -0.2180128842141677,
          4.589893508249173,
          -5.999818972790188,
          -2.734980824547972,
          1.4891190478884355,
          5.035537346138557,
          -2.83881882802344,
          -0.02956789763943909,
          2.5283182017893604,
          -2.834199256893016,
          -2.166848689014841,
          -4.2452495865309805,
          0.5759987022556916,
          6.237928534526952,
          1.981339993183041,
          0.22951687983110694,
          0.2978009535283238,
          4.4678012132424865,
          -1.6634515214541716,
          2.0338985514669154,
          11.870057837216772,
          10.133276336905896,
          6.078838101081983,
          10.39756368873831,
          5.523977855658912,
          -1.0061820224022493,
          2.0055383027616287,
          7.9626467133230285,
          10.469304634928974,
          10.062102102161342,
          10.846633441914365,
          0.45266199589448036,
          4.585858917299586,
          -0.14855673036900655,
          2.688329998091281,
          -4.226938648747574,
          1.108186375682171,
          -0.8320512598329659,
          -3.6643397421933304,
          -3.07993891883684,
          -4.153783070892746,
          -1.8280682135358948,
          -4.449770906393128,
          -3.1831742968302885,
          -5.663699372164112,
          -3.874824396792499,
          -5.532773396392562,
          -6.783862161179245,
          -8.04116400468168,
          -7.197069550159394,
          -8.009772423928688,
          -5.114846452106771,
          -9.046379371981912,
          -4.990037691707028,
          -7.550099813904579,
          -5.680037481544337,
          -6.181352564445407,
          -6.252609597159915,
          -2.693658411777939,
          -5.1791282683708015,
          -2.977583664688258,
          -5.580627510420586,
          -6.346918380793539,
          -6.173855439176657,
          -6.942780279650871,
          -5.929555148199662,
          -8.514330328758115,
          -4.3270103958148045,
          -4.51582315077295,
          -5.597153490568286,
          -3.4477611323204678,
          -1.7539920238694222,
          -0.746554456036222,
          -4.627838786486165,
          -0.09575682153295084,
          -4.4844003929438845,
          -4.651811078736831,
          -5.511966778086935,
          -3.2851268107480984,
          3.1239695265523473,
          1.0655641351115046,
          -3.0524044363994522,
          2.9043432507762637,
          -4.155489425455356,
          -4.125590912209115,
          -1.8552208360085651,
          -1.3846734230764577,
          2.944666659450223,
          -4.637769596221292,
          -3.649593378276706
         ],
         "xaxis": "x",
         "y": [
          3.944291978440455,
          7.543315790152053,
          4.938918840350729,
          10.584781211924875,
          -2.4051156598700745,
          -1.576865469778966,
          -5.8495175309929275,
          -5.425947483719351,
          -5.1325688526539395,
          -6.405853814222141,
          -3.523277012438957,
          3.218359196423677,
          2.579647720252948,
          5.143342625080426,
          3.1944298162021108,
          2.647114819724087,
          6.643248164167489,
          6.500285367708826,
          -1.4603021190022596,
          3.1878170637531564,
          0.836548590410752,
          -0.663281672726616,
          0.42587049753846573,
          1.2714968993283644,
          2.2747589913649406,
          2.1998146990357403,
          2.3048096559554843,
          0.754713417803074,
          8.699692269182718,
          6.711839874689778,
          10.22557884248888,
          1.8788138632684723,
          10.917690658561444,
          7.842920838624979,
          -3.7363026431073343,
          6.525519282965306,
          3.274960386626615,
          2.3534420705579624,
          2.889943191658549,
          1.7883760626644871,
          7.119339803869972,
          5.3025773572972,
          7.505103016384804,
          6.4916203756120305,
          5.006966251338804,
          5.401648225015206,
          4.398092228109999,
          5.266967314644368,
          2.357496615578992,
          3.9884869322669547,
          6.969649676245706,
          -4.656836052003488,
          -8.999072395861091,
          -6.095388602294275,
          -2.550708322124109,
          -8.333432916531066,
          -5.280162940413928,
          -2.450237738949658,
          -2.308328527571925,
          3.2018456603443917,
          4.096241917608567,
          -2.988721625574775,
          -4.549333523693383,
          -1.509497005893608,
          2.735107407170085,
          0.14098910044491203,
          5.1006946834508895,
          4.5443836528930674,
          -0.904886323988346,
          1.0451373515635032,
          1.5512601066058733,
          -6.073913376647318,
          -7.296516561104203,
          -6.778235359989769,
          -7.045816848352153,
          0.5021382382332723,
          -1.9307701416071854,
          1.8345669626004197,
          -1.1758009547290802,
          -5.864954114216855,
          -6.179174543240013,
          -5.978703642249083,
          -9.169285247079284,
          -2.29920143483973,
          -6.111263311732333,
          4.471033797986342,
          3.698461191689927,
          -0.29324988210916325,
          0.1464593474098465,
          -1.927515386733558,
          0.5253111706272516,
          0.769334351632956,
          -0.17504734863298602,
          -3.018073480856724,
          2.107139857759165,
          3.284482860232914,
          2.6519432459125243,
          3.464116338681255,
          0.46398893435102223,
          1.4459718491077498,
          1.3010613823952693,
          3.6856385737894373,
          2.84119565536182,
          2.6373229368375983,
          3.306366717966483,
          -6.2884614118643265,
          -8.778693240593512,
          -6.518782684361585,
          -7.585492807002129,
          -3.8773889790347478,
          -4.43453944728655,
          -1.7622821566087885,
          0.8523437262282845,
          -0.0338811552919877,
          -1.7076595502942715,
          -7.972574204825104,
          -6.295817299636915,
          -3.9840970342323,
          -4.186826541707538,
          -4.09834010906929,
          -2.4237080057665863,
          -2.8407422343287574,
          1.3439382513352716,
          -1.838057257609644,
          -3.930621673851991,
          3.6252997537004035,
          1.5531744914601477,
          -5.572244506567858,
          -3.6705584499343464,
          -1.4183560669189703,
          -6.011746228326872,
          0.9874106432803748,
          1.8268734345428514,
          3.1407147157548234,
          -2.054608986296642,
          -8.689327549376696,
          -3.3853283252089783,
          -0.5089430187014443
         ],
         "yaxis": "y"
        }
       ],
       "layout": {
        "coloraxis": {
         "colorbar": {
          "title": {
           "text": "cluster"
          }
         },
         "colorscale": [
          [
           0,
           "#0d0887"
          ],
          [
           0.1111111111111111,
           "#46039f"
          ],
          [
           0.2222222222222222,
           "#7201a8"
          ],
          [
           0.3333333333333333,
           "#9c179e"
          ],
          [
           0.4444444444444444,
           "#bd3786"
          ],
          [
           0.5555555555555556,
           "#d8576b"
          ],
          [
           0.6666666666666666,
           "#ed7953"
          ],
          [
           0.7777777777777778,
           "#fb9f3a"
          ],
          [
           0.8888888888888888,
           "#fdca26"
          ],
          [
           1,
           "#f0f921"
          ]
         ]
        },
        "legend": {
         "tracegroupgap": 0
        },
        "margin": {
         "t": 60
        },
        "template": {
         "data": {
          "bar": [
           {
            "error_x": {
             "color": "#2a3f5f"
            },
            "error_y": {
             "color": "#2a3f5f"
            },
            "marker": {
             "line": {
              "color": "#E5ECF6",
              "width": 0.5
             }
            },
            "type": "bar"
           }
          ],
          "barpolar": [
           {
            "marker": {
             "line": {
              "color": "#E5ECF6",
              "width": 0.5
             }
            },
            "type": "barpolar"
           }
          ],
          "carpet": [
           {
            "aaxis": {
             "endlinecolor": "#2a3f5f",
             "gridcolor": "white",
             "linecolor": "white",
             "minorgridcolor": "white",
             "startlinecolor": "#2a3f5f"
            },
            "baxis": {
             "endlinecolor": "#2a3f5f",
             "gridcolor": "white",
             "linecolor": "white",
             "minorgridcolor": "white",
             "startlinecolor": "#2a3f5f"
            },
            "type": "carpet"
           }
          ],
          "choropleth": [
           {
            "colorbar": {
             "outlinewidth": 0,
             "ticks": ""
            },
            "type": "choropleth"
           }
          ],
          "contour": [
           {
            "colorbar": {
             "outlinewidth": 0,
             "ticks": ""
            },
            "colorscale": [
             [
              0,
              "#0d0887"
             ],
             [
              0.1111111111111111,
              "#46039f"
             ],
             [
              0.2222222222222222,
              "#7201a8"
             ],
             [
              0.3333333333333333,
              "#9c179e"
             ],
             [
              0.4444444444444444,
              "#bd3786"
             ],
             [
              0.5555555555555556,
              "#d8576b"
             ],
             [
              0.6666666666666666,
              "#ed7953"
             ],
             [
              0.7777777777777778,
              "#fb9f3a"
             ],
             [
              0.8888888888888888,
              "#fdca26"
             ],
             [
              1,
              "#f0f921"
             ]
            ],
            "type": "contour"
           }
          ],
          "contourcarpet": [
           {
            "colorbar": {
             "outlinewidth": 0,
             "ticks": ""
            },
            "type": "contourcarpet"
           }
          ],
          "heatmap": [
           {
            "colorbar": {
             "outlinewidth": 0,
             "ticks": ""
            },
            "colorscale": [
             [
              0,
              "#0d0887"
             ],
             [
              0.1111111111111111,
              "#46039f"
             ],
             [
              0.2222222222222222,
              "#7201a8"
             ],
             [
              0.3333333333333333,
              "#9c179e"
             ],
             [
              0.4444444444444444,
              "#bd3786"
             ],
             [
              0.5555555555555556,
              "#d8576b"
             ],
             [
              0.6666666666666666,
              "#ed7953"
             ],
             [
              0.7777777777777778,
              "#fb9f3a"
             ],
             [
              0.8888888888888888,
              "#fdca26"
             ],
             [
              1,
              "#f0f921"
             ]
            ],
            "type": "heatmap"
           }
          ],
          "heatmapgl": [
           {
            "colorbar": {
             "outlinewidth": 0,
             "ticks": ""
            },
            "colorscale": [
             [
              0,
              "#0d0887"
             ],
             [
              0.1111111111111111,
              "#46039f"
             ],
             [
              0.2222222222222222,
              "#7201a8"
             ],
             [
              0.3333333333333333,
              "#9c179e"
             ],
             [
              0.4444444444444444,
              "#bd3786"
             ],
             [
              0.5555555555555556,
              "#d8576b"
             ],
             [
              0.6666666666666666,
              "#ed7953"
             ],
             [
              0.7777777777777778,
              "#fb9f3a"
             ],
             [
              0.8888888888888888,
              "#fdca26"
             ],
             [
              1,
              "#f0f921"
             ]
            ],
            "type": "heatmapgl"
           }
          ],
          "histogram": [
           {
            "marker": {
             "colorbar": {
              "outlinewidth": 0,
              "ticks": ""
             }
            },
            "type": "histogram"
           }
          ],
          "histogram2d": [
           {
            "colorbar": {
             "outlinewidth": 0,
             "ticks": ""
            },
            "colorscale": [
             [
              0,
              "#0d0887"
             ],
             [
              0.1111111111111111,
              "#46039f"
             ],
             [
              0.2222222222222222,
              "#7201a8"
             ],
             [
              0.3333333333333333,
              "#9c179e"
             ],
             [
              0.4444444444444444,
              "#bd3786"
             ],
             [
              0.5555555555555556,
              "#d8576b"
             ],
             [
              0.6666666666666666,
              "#ed7953"
             ],
             [
              0.7777777777777778,
              "#fb9f3a"
             ],
             [
              0.8888888888888888,
              "#fdca26"
             ],
             [
              1,
              "#f0f921"
             ]
            ],
            "type": "histogram2d"
           }
          ],
          "histogram2dcontour": [
           {
            "colorbar": {
             "outlinewidth": 0,
             "ticks": ""
            },
            "colorscale": [
             [
              0,
              "#0d0887"
             ],
             [
              0.1111111111111111,
              "#46039f"
             ],
             [
              0.2222222222222222,
              "#7201a8"
             ],
             [
              0.3333333333333333,
              "#9c179e"
             ],
             [
              0.4444444444444444,
              "#bd3786"
             ],
             [
              0.5555555555555556,
              "#d8576b"
             ],
             [
              0.6666666666666666,
              "#ed7953"
             ],
             [
              0.7777777777777778,
              "#fb9f3a"
             ],
             [
              0.8888888888888888,
              "#fdca26"
             ],
             [
              1,
              "#f0f921"
             ]
            ],
            "type": "histogram2dcontour"
           }
          ],
          "mesh3d": [
           {
            "colorbar": {
             "outlinewidth": 0,
             "ticks": ""
            },
            "type": "mesh3d"
           }
          ],
          "parcoords": [
           {
            "line": {
             "colorbar": {
              "outlinewidth": 0,
              "ticks": ""
             }
            },
            "type": "parcoords"
           }
          ],
          "pie": [
           {
            "automargin": true,
            "type": "pie"
           }
          ],
          "scatter": [
           {
            "marker": {
             "colorbar": {
              "outlinewidth": 0,
              "ticks": ""
             }
            },
            "type": "scatter"
           }
          ],
          "scatter3d": [
           {
            "line": {
             "colorbar": {
              "outlinewidth": 0,
              "ticks": ""
             }
            },
            "marker": {
             "colorbar": {
              "outlinewidth": 0,
              "ticks": ""
             }
            },
            "type": "scatter3d"
           }
          ],
          "scattercarpet": [
           {
            "marker": {
             "colorbar": {
              "outlinewidth": 0,
              "ticks": ""
             }
            },
            "type": "scattercarpet"
           }
          ],
          "scattergeo": [
           {
            "marker": {
             "colorbar": {
              "outlinewidth": 0,
              "ticks": ""
             }
            },
            "type": "scattergeo"
           }
          ],
          "scattergl": [
           {
            "marker": {
             "colorbar": {
              "outlinewidth": 0,
              "ticks": ""
             }
            },
            "type": "scattergl"
           }
          ],
          "scattermapbox": [
           {
            "marker": {
             "colorbar": {
              "outlinewidth": 0,
              "ticks": ""
             }
            },
            "type": "scattermapbox"
           }
          ],
          "scatterpolar": [
           {
            "marker": {
             "colorbar": {
              "outlinewidth": 0,
              "ticks": ""
             }
            },
            "type": "scatterpolar"
           }
          ],
          "scatterpolargl": [
           {
            "marker": {
             "colorbar": {
              "outlinewidth": 0,
              "ticks": ""
             }
            },
            "type": "scatterpolargl"
           }
          ],
          "scatterternary": [
           {
            "marker": {
             "colorbar": {
              "outlinewidth": 0,
              "ticks": ""
             }
            },
            "type": "scatterternary"
           }
          ],
          "surface": [
           {
            "colorbar": {
             "outlinewidth": 0,
             "ticks": ""
            },
            "colorscale": [
             [
              0,
              "#0d0887"
             ],
             [
              0.1111111111111111,
              "#46039f"
             ],
             [
              0.2222222222222222,
              "#7201a8"
             ],
             [
              0.3333333333333333,
              "#9c179e"
             ],
             [
              0.4444444444444444,
              "#bd3786"
             ],
             [
              0.5555555555555556,
              "#d8576b"
             ],
             [
              0.6666666666666666,
              "#ed7953"
             ],
             [
              0.7777777777777778,
              "#fb9f3a"
             ],
             [
              0.8888888888888888,
              "#fdca26"
             ],
             [
              1,
              "#f0f921"
             ]
            ],
            "type": "surface"
           }
          ],
          "table": [
           {
            "cells": {
             "fill": {
              "color": "#EBF0F8"
             },
             "line": {
              "color": "white"
             }
            },
            "header": {
             "fill": {
              "color": "#C8D4E3"
             },
             "line": {
              "color": "white"
             }
            },
            "type": "table"
           }
          ]
         },
         "layout": {
          "annotationdefaults": {
           "arrowcolor": "#2a3f5f",
           "arrowhead": 0,
           "arrowwidth": 1
          },
          "coloraxis": {
           "colorbar": {
            "outlinewidth": 0,
            "ticks": ""
           }
          },
          "colorscale": {
           "diverging": [
            [
             0,
             "#8e0152"
            ],
            [
             0.1,
             "#c51b7d"
            ],
            [
             0.2,
             "#de77ae"
            ],
            [
             0.3,
             "#f1b6da"
            ],
            [
             0.4,
             "#fde0ef"
            ],
            [
             0.5,
             "#f7f7f7"
            ],
            [
             0.6,
             "#e6f5d0"
            ],
            [
             0.7,
             "#b8e186"
            ],
            [
             0.8,
             "#7fbc41"
            ],
            [
             0.9,
             "#4d9221"
            ],
            [
             1,
             "#276419"
            ]
           ],
           "sequential": [
            [
             0,
             "#0d0887"
            ],
            [
             0.1111111111111111,
             "#46039f"
            ],
            [
             0.2222222222222222,
             "#7201a8"
            ],
            [
             0.3333333333333333,
             "#9c179e"
            ],
            [
             0.4444444444444444,
             "#bd3786"
            ],
            [
             0.5555555555555556,
             "#d8576b"
            ],
            [
             0.6666666666666666,
             "#ed7953"
            ],
            [
             0.7777777777777778,
             "#fb9f3a"
            ],
            [
             0.8888888888888888,
             "#fdca26"
            ],
            [
             1,
             "#f0f921"
            ]
           ],
           "sequentialminus": [
            [
             0,
             "#0d0887"
            ],
            [
             0.1111111111111111,
             "#46039f"
            ],
            [
             0.2222222222222222,
             "#7201a8"
            ],
            [
             0.3333333333333333,
             "#9c179e"
            ],
            [
             0.4444444444444444,
             "#bd3786"
            ],
            [
             0.5555555555555556,
             "#d8576b"
            ],
            [
             0.6666666666666666,
             "#ed7953"
            ],
            [
             0.7777777777777778,
             "#fb9f3a"
            ],
            [
             0.8888888888888888,
             "#fdca26"
            ],
            [
             1,
             "#f0f921"
            ]
           ]
          },
          "colorway": [
           "#636efa",
           "#EF553B",
           "#00cc96",
           "#ab63fa",
           "#FFA15A",
           "#19d3f3",
           "#FF6692",
           "#B6E880",
           "#FF97FF",
           "#FECB52"
          ],
          "font": {
           "color": "#2a3f5f"
          },
          "geo": {
           "bgcolor": "white",
           "lakecolor": "white",
           "landcolor": "#E5ECF6",
           "showlakes": true,
           "showland": true,
           "subunitcolor": "white"
          },
          "hoverlabel": {
           "align": "left"
          },
          "hovermode": "closest",
          "mapbox": {
           "style": "light"
          },
          "paper_bgcolor": "white",
          "plot_bgcolor": "#E5ECF6",
          "polar": {
           "angularaxis": {
            "gridcolor": "white",
            "linecolor": "white",
            "ticks": ""
           },
           "bgcolor": "#E5ECF6",
           "radialaxis": {
            "gridcolor": "white",
            "linecolor": "white",
            "ticks": ""
           }
          },
          "scene": {
           "xaxis": {
            "backgroundcolor": "#E5ECF6",
            "gridcolor": "white",
            "gridwidth": 2,
            "linecolor": "white",
            "showbackground": true,
            "ticks": "",
            "zerolinecolor": "white"
           },
           "yaxis": {
            "backgroundcolor": "#E5ECF6",
            "gridcolor": "white",
            "gridwidth": 2,
            "linecolor": "white",
            "showbackground": true,
            "ticks": "",
            "zerolinecolor": "white"
           },
           "zaxis": {
            "backgroundcolor": "#E5ECF6",
            "gridcolor": "white",
            "gridwidth": 2,
            "linecolor": "white",
            "showbackground": true,
            "ticks": "",
            "zerolinecolor": "white"
           }
          },
          "shapedefaults": {
           "line": {
            "color": "#2a3f5f"
           }
          },
          "ternary": {
           "aaxis": {
            "gridcolor": "white",
            "linecolor": "white",
            "ticks": ""
           },
           "baxis": {
            "gridcolor": "white",
            "linecolor": "white",
            "ticks": ""
           },
           "bgcolor": "#E5ECF6",
           "caxis": {
            "gridcolor": "white",
            "linecolor": "white",
            "ticks": ""
           }
          },
          "title": {
           "x": 0.05
          },
          "xaxis": {
           "automargin": true,
           "gridcolor": "white",
           "linecolor": "white",
           "ticks": "",
           "title": {
            "standoff": 15
           },
           "zerolinecolor": "white",
           "zerolinewidth": 2
          },
          "yaxis": {
           "automargin": true,
           "gridcolor": "white",
           "linecolor": "white",
           "ticks": "",
           "title": {
            "standoff": 15
           },
           "zerolinecolor": "white",
           "zerolinewidth": 2
          }
         }
        },
        "xaxis": {
         "anchor": "y",
         "domain": [
          0,
          1
         ],
         "title": {
          "text": "pc_1"
         }
        },
        "yaxis": {
         "anchor": "x",
         "domain": [
          0,
          1
         ],
         "title": {
          "text": "pc_2"
         }
        }
       }
      },
      "text/html": [
       "<div>\n",
       "        \n",
       "        \n",
       "            <div id=\"6b694af3-7042-47e3-98dc-e31413fd1e4d\" class=\"plotly-graph-div\" style=\"height:525px; width:100%;\"></div>\n",
       "            <script type=\"text/javascript\">\n",
       "                require([\"plotly\"], function(Plotly) {\n",
       "                    window.PLOTLYENV=window.PLOTLYENV || {};\n",
       "                    \n",
       "                if (document.getElementById(\"6b694af3-7042-47e3-98dc-e31413fd1e4d\")) {\n",
       "                    Plotly.newPlot(\n",
       "                        '6b694af3-7042-47e3-98dc-e31413fd1e4d',\n",
       "                        [{\"customdata\": [[\"01\"], [\"01\"], [\"01\"], [\"01\"], [\"01\"], [\"01\"], [\"01\"], [\"01\"], [\"01\"], [\"01\"], [\"02\"], [\"02\"], [\"02\"], [\"02\"], [\"02\"], [\"02\"], [\"02\"], [\"02\"], [\"03\"], [\"03\"], [\"03\"], [\"03\"], [\"03\"], [\"03\"], [\"03\"], [\"03\"], [\"03\"], [\"03\"], [\"03\"], [\"03\"], [\"03\"], [\"03\"], [\"03\"], [\"03\"], [\"04\"], [\"04\"], [\"04\"], [\"04\"], [\"04\"], [\"04\"], [\"04\"], [\"04\"], [\"04\"], [\"04\"], [\"04\"], [\"04\"], [\"04\"], [\"04\"], [\"04\"], [\"04\"], [\"04\"], [\"05\"], [\"05\"], [\"05\"], [\"05\"], [\"05\"], [\"05\"], [\"05\"], [\"05\"], [\"05\"], [\"06\"], [\"06\"], [\"06\"], [\"06\"], [\"06\"], [\"06\"], [\"06\"], [\"06\"], [\"07\"], [\"07\"], [\"07\"], [\"07\"], [\"07\"], [\"07\"], [\"07\"], [\"08\"], [\"08\"], [\"08\"], [\"08\"], [\"08\"], [\"08\"], [\"08\"], [\"08\"], [\"08\"], [\"08\"], [\"09\"], [\"09\"], [\"09\"], [\"09\"], [\"09\"], [\"09\"], [\"09\"], [\"09\"], [\"09\"], [\"09\"], [\"09\"], [\"09\"], [\"09\"], [\"09\"], [\"09\"], [\"09\"], [\"09\"], [\"09\"], [\"09\"], [\"09\"], [\"10\"], [\"10\"], [\"10\"], [\"10\"], [\"10\"], [\"10\"], [\"10\"], [\"10\"], [\"10\"], [\"11\"], [\"11\"], [\"11\"], [\"11\"], [\"11\"], [\"11\"], [\"11\"], [\"11\"], [\"11\"], [\"11\"], [\"11\"], [\"11\"], [\"11\"], [\"12\"], [\"12\"], [\"12\"], [\"12\"], [\"12\"], [\"12\"], [\"12\"], [\"12\"], [\"12\"], [\"12\"], [\"12\"]], \"hovertemplate\": \"<b>%{hovertext}</b><br><br>pc_1=%{x}<br>pc_2=%{y}<br>Bezirk=%{customdata[0]}<br>cluster=%{marker.color}<extra></extra>\", \"hovertext\": [\"Tiergarten S\\u00fcd\", \"Regierungsviertel\", \"Alexanderplatz\", \"Brunnenstra\\u00dfe S\\u00fcd\", \"Moabit West\", \"Moabit Ost\", \"Osloer Stra\\u00dfe\", \"Brunnenstra\\u00dfe Nord\", \"Parkviertel\", \"Wedding Zentrum\", \"S\\u00fcdliche Friedrichstadt\", \"Tempelhofer Vorstadt\", \"N\\u00f6rdliche Luisenstadt\", \"S\\u00fcdliche Luisenstadt\", \"Karl-Marx-Allee Nord\", \"Karl-Marx-Allee S\\u00fcd\", \"Frankfurter Allee Nord\", \"Frankfurter Allee S\\u00fcd FK\", \"Buch\", \"Blankenfelde/Niedersch\\u00f6nhausen\", \"Buchholz\", \"Karow\", \"Blankenburg/Heinersdorf/M\\u00e4rchenland\", \"Sch\\u00f6nholz/Wilhelmsruh/Rosenthal\", \"Pankow Zentrum\", \"Pankow S\\u00fcd\", \"Wei\\u00dfensee\", \"Wei\\u00dfensee Ost\", \"Prenzlauer Berg Nordwest\", \"Prenzlauer Berg Nord\", \"Helmholtzplatz\", \"Prenzlauer Berg Ost\", \"Prenzlauer Berg S\\u00fcdwest\", \"Prenzlauer Berg S\\u00fcd\", \"Charlottenburg Nord\", \"Heerstra\\u00dfe\", \"Westend\", \"Schlo\\u00df Charlottenburg\", \"Mierendorffplatz\", \"Otto-Suhr-Allee\", \"Neue Kantstra\\u00dfe\", \"Kantstra\\u00dfe\", \"Kurf\\u00fcrstendamm\", \"Halensee\", \"Grunewald\", \"Schmargendorf\", \"Wiesbadener Stra\\u00dfe\", \"D\\u00fcsseldorfer Stra\\u00dfe\", \"Barstra\\u00dfe\", \"Volkspark Wilmersdorf\", \"Forst Grunewald\", \"Hakenfelde\", \"Falkenhagener Feld\", \"Spandau Mitte\", \"Brunsb\\u00fctteler Damm\", \"Heerstra\\u00dfe Nord\", \"Wilhelmstadt\", \"Haselhorst\", \"Siemensstadt\", \"Gatow/Kladow\", \"Schlo\\u00dfstra\\u00dfe\", \"Albrechtstra\\u00dfe\", \"Lankwitz\", \"Ostpreu\\u00dfendamm\", \"Teltower Damm\", \"Drakestra\\u00dfe\", \"Zehlendorf S\\u00fcdwest\", \"Zehlendorf Nord\", \"Sch\\u00f6neberg Nord\", \"Sch\\u00f6neberg S\\u00fcd\", \"Friedenau\", \"Tempelhof\", \"Mariendorf\", \"Marienfelde\", \"Lichtenrade\", \"Schillerpromenade\", \"Neuk\\u00f6llner Mitte/Zentrum\", \"Reuterstra\\u00dfe\", \"Rixdorf\", \"K\\u00f6llnische Heide\", \"Britz\", \"Buckow\", \"Gropiusstadt\", \"Buckow Nord\", \"Rudow\", \"Alt-Treptow\", \"Pl\\u00e4nterwald\", \"Baumschulenweg\", \"Johannisthal\", \"Obersch\\u00f6neweide\", \"Niedersch\\u00f6neweide\", \"Adlershof\", \"K\\u00f6llnische Vorstadt/Spindlersfeld\", \"Altglienicke\", \"Bohnsdorf\", \"Gr\\u00fcnau\", \"Schm\\u00f6ckwitz/Karolinenhof/Rauchfangswerder\", \"K\\u00f6penick S\\u00fcd\", \"Allende-Viertel\", \"Altstadt-Kietz\", \"M\\u00fcggelheim\", \"Friedrichshagen\", \"Rahnsdorf/Hessenwinkel\", \"Dammvorstadt\", \"K\\u00f6penick Nord\", \"Marzahn Nord\", \"Marzahn Mitte\", \"Marzahn S\\u00fcd\", \"Hellersdorf Nord\", \"Hellersdorf Ost\", \"Hellersdorf S\\u00fcd\", \"Biesdorf\", \"Kaulsdorf\", \"Mahlsdorf\", \"Malchow, Wartenberg und Falkenberg\", \"Neu-Hohensch\\u00f6nhausen Nord\", \"Neu-Hohensch\\u00f6nhausen S\\u00fcd\", \"Alt-Hohensch\\u00f6nhausen Nord\", \"Alt-Hohensch\\u00f6nhausen S\\u00fcd\", \"Fennpfuhl\", \"Alt-Lichtenberg\", \"Frankfurter Allee S\\u00fcd\", \"Neu-Lichtenberg\", \"Friedrichsfelde Nord\", \"Friedrichsfelde S\\u00fcd\", \"Rummelsburger Bucht\", \"Karlshorst\", \"Ost 1 - Reginhardstra\\u00dfe\", \"Ost 2 - Alt-Reinickendorf\", \"West 1 - Tegel-S\\u00fcd/Flughafensee\", \"West 4 - Auguste-Viktoria-Allee\", \"West 5 - Tegel/Tegeler Forst\", \"West 2 - Heiligensee/Konradsh\\u00f6he\", \"Nord 1 - Frohnau/Hermsdorf\", \"Nord 2 - Waidmannslust/Wittenau/L\\u00fcbars\", \"MV 1 - M\\u00e4rkisches Viertel\", \"MV 2 - Rollbergesiedlung\", \"West 3 - Borsigwalde/Freie Scholle\"], \"legendgroup\": \"\", \"marker\": {\"color\": [0, 0, 3, 3, 5, 5, 5, 5, 5, 5, 5, 5, 0, 3, 2, 2, 3, 3, 4, 4, 4, 4, 4, 4, 2, 2, 2, 2, 3, 3, 3, 2, 3, 3, 1, 0, 0, 0, 0, 0, 0, 0, 0, 0, 0, 0, 0, 0, 0, 0, 0, 1, 1, 1, 4, 1, 1, 4, 4, 4, 0, 1, 1, 1, 0, 0, 0, 0, 5, 5, 0, 5, 1, 1, 1, 5, 5, 5, 5, 1, 1, 1, 1, 4, 1, 2, 2, 2, 4, 2, 2, 2, 2, 4, 4, 4, 4, 4, 2, 2, 4, 4, 4, 2, 2, 6, 6, 6, 6, 6, 6, 4, 4, 4, 4, 6, 6, 6, 6, 6, 2, 4, 2, 6, 6, 2, 2, 1, 1, 4, 1, 4, 4, 4, 4, 1, 4, 4], \"coloraxis\": \"coloraxis\", \"size\": 10, \"symbol\": \"circle\"}, \"mode\": \"markers\", \"name\": \"\", \"orientation\": \"v\", \"showlegend\": false, \"type\": \"scatter\", \"x\": [1.095221726313698, -0.37395459782916746, 10.991002414058785, 7.272189966999242, 10.918576058322136, 7.777550383740198, 10.28550229283353, 8.788257480032758, 8.092322102860631, 16.73095663987111, 10.026616317306829, 15.690116061653367, 3.425341384670597, 5.531232823622947, -0.834961286114439, 1.4778223557912282, 3.9362088430357045, 9.71551150886999, -5.806069378281459, -2.5830849616901115, -5.9541281930514645, -6.113590250060807, -5.811624322573482, -4.217011347702854, -0.3407871571139955, -0.5834069412479497, 0.5962702341277424, -5.419441374789614, 3.120852734025696, 1.4458453751239047, 3.1210436595762348, -1.0129605861361746, 5.070446228190045, 4.011247090286399, -1.2766615292142456, -2.0592736722555474, 1.4614461165820538, 2.2090570299322385, -0.24752294879887451, 3.6426367135423114, 3.429906703618975, 3.314745325767643, 0.7638628738625153, -0.10395023412032867, -0.7838069882391934, -2.080381559877116, -1.194169967715923, 4.630981353235834, -0.2180128842141677, 4.589893508249173, -5.999818972790188, -2.734980824547972, 1.4891190478884355, 5.035537346138557, -2.83881882802344, -0.02956789763943909, 2.5283182017893604, -2.834199256893016, -2.166848689014841, -4.2452495865309805, 0.5759987022556916, 6.237928534526952, 1.981339993183041, 0.22951687983110694, 0.2978009535283238, 4.4678012132424865, -1.6634515214541716, 2.0338985514669154, 11.870057837216772, 10.133276336905896, 6.078838101081983, 10.39756368873831, 5.523977855658912, -1.0061820224022493, 2.0055383027616287, 7.9626467133230285, 10.469304634928974, 10.062102102161342, 10.846633441914365, 0.45266199589448036, 4.585858917299586, -0.14855673036900655, 2.688329998091281, -4.226938648747574, 1.108186375682171, -0.8320512598329659, -3.6643397421933304, -3.07993891883684, -4.153783070892746, -1.8280682135358948, -4.449770906393128, -3.1831742968302885, -5.663699372164112, -3.874824396792499, -5.532773396392562, -6.783862161179245, -8.04116400468168, -7.197069550159394, -8.009772423928688, -5.114846452106771, -9.046379371981912, -4.990037691707028, -7.550099813904579, -5.680037481544337, -6.181352564445407, -6.252609597159915, -2.693658411777939, -5.1791282683708015, -2.977583664688258, -5.580627510420586, -6.346918380793539, -6.173855439176657, -6.942780279650871, -5.929555148199662, -8.514330328758115, -4.3270103958148045, -4.51582315077295, -5.597153490568286, -3.4477611323204678, -1.7539920238694222, -0.746554456036222, -4.627838786486165, -0.09575682153295084, -4.4844003929438845, -4.651811078736831, -5.511966778086935, -3.2851268107480984, 3.1239695265523473, 1.0655641351115046, -3.0524044363994522, 2.9043432507762637, -4.155489425455356, -4.125590912209115, -1.8552208360085651, -1.3846734230764577, 2.944666659450223, -4.637769596221292, -3.649593378276706], \"xaxis\": \"x\", \"y\": [3.944291978440455, 7.543315790152053, 4.938918840350729, 10.584781211924875, -2.4051156598700745, -1.576865469778966, -5.8495175309929275, -5.425947483719351, -5.1325688526539395, -6.405853814222141, -3.523277012438957, 3.218359196423677, 2.579647720252948, 5.143342625080426, 3.1944298162021108, 2.647114819724087, 6.643248164167489, 6.500285367708826, -1.4603021190022596, 3.1878170637531564, 0.836548590410752, -0.663281672726616, 0.42587049753846573, 1.2714968993283644, 2.2747589913649406, 2.1998146990357403, 2.3048096559554843, 0.754713417803074, 8.699692269182718, 6.711839874689778, 10.22557884248888, 1.8788138632684723, 10.917690658561444, 7.842920838624979, -3.7363026431073343, 6.525519282965306, 3.274960386626615, 2.3534420705579624, 2.889943191658549, 1.7883760626644871, 7.119339803869972, 5.3025773572972, 7.505103016384804, 6.4916203756120305, 5.006966251338804, 5.401648225015206, 4.398092228109999, 5.266967314644368, 2.357496615578992, 3.9884869322669547, 6.969649676245706, -4.656836052003488, -8.999072395861091, -6.095388602294275, -2.550708322124109, -8.333432916531066, -5.280162940413928, -2.450237738949658, -2.308328527571925, 3.2018456603443917, 4.096241917608567, -2.988721625574775, -4.549333523693383, -1.509497005893608, 2.735107407170085, 0.14098910044491203, 5.1006946834508895, 4.5443836528930674, -0.904886323988346, 1.0451373515635032, 1.5512601066058733, -6.073913376647318, -7.296516561104203, -6.778235359989769, -7.045816848352153, 0.5021382382332723, -1.9307701416071854, 1.8345669626004197, -1.1758009547290802, -5.864954114216855, -6.179174543240013, -5.978703642249083, -9.169285247079284, -2.29920143483973, -6.111263311732333, 4.471033797986342, 3.698461191689927, -0.29324988210916325, 0.1464593474098465, -1.927515386733558, 0.5253111706272516, 0.769334351632956, -0.17504734863298602, -3.018073480856724, 2.107139857759165, 3.284482860232914, 2.6519432459125243, 3.464116338681255, 0.46398893435102223, 1.4459718491077498, 1.3010613823952693, 3.6856385737894373, 2.84119565536182, 2.6373229368375983, 3.306366717966483, -6.2884614118643265, -8.778693240593512, -6.518782684361585, -7.585492807002129, -3.8773889790347478, -4.43453944728655, -1.7622821566087885, 0.8523437262282845, -0.0338811552919877, -1.7076595502942715, -7.972574204825104, -6.295817299636915, -3.9840970342323, -4.186826541707538, -4.09834010906929, -2.4237080057665863, -2.8407422343287574, 1.3439382513352716, -1.838057257609644, -3.930621673851991, 3.6252997537004035, 1.5531744914601477, -5.572244506567858, -3.6705584499343464, -1.4183560669189703, -6.011746228326872, 0.9874106432803748, 1.8268734345428514, 3.1407147157548234, -2.054608986296642, -8.689327549376696, -3.3853283252089783, -0.5089430187014443], \"yaxis\": \"y\"}],\n",
       "                        {\"coloraxis\": {\"colorbar\": {\"title\": {\"text\": \"cluster\"}}, \"colorscale\": [[0.0, \"#0d0887\"], [0.1111111111111111, \"#46039f\"], [0.2222222222222222, \"#7201a8\"], [0.3333333333333333, \"#9c179e\"], [0.4444444444444444, \"#bd3786\"], [0.5555555555555556, \"#d8576b\"], [0.6666666666666666, \"#ed7953\"], [0.7777777777777778, \"#fb9f3a\"], [0.8888888888888888, \"#fdca26\"], [1.0, \"#f0f921\"]]}, \"legend\": {\"tracegroupgap\": 0}, \"margin\": {\"t\": 60}, \"template\": {\"data\": {\"bar\": [{\"error_x\": {\"color\": \"#2a3f5f\"}, \"error_y\": {\"color\": \"#2a3f5f\"}, \"marker\": {\"line\": {\"color\": \"#E5ECF6\", \"width\": 0.5}}, \"type\": \"bar\"}], \"barpolar\": [{\"marker\": {\"line\": {\"color\": \"#E5ECF6\", \"width\": 0.5}}, \"type\": \"barpolar\"}], \"carpet\": [{\"aaxis\": {\"endlinecolor\": \"#2a3f5f\", \"gridcolor\": \"white\", \"linecolor\": \"white\", \"minorgridcolor\": \"white\", \"startlinecolor\": \"#2a3f5f\"}, \"baxis\": {\"endlinecolor\": \"#2a3f5f\", \"gridcolor\": \"white\", \"linecolor\": \"white\", \"minorgridcolor\": \"white\", \"startlinecolor\": \"#2a3f5f\"}, \"type\": \"carpet\"}], \"choropleth\": [{\"colorbar\": {\"outlinewidth\": 0, \"ticks\": \"\"}, \"type\": \"choropleth\"}], \"contour\": [{\"colorbar\": {\"outlinewidth\": 0, \"ticks\": \"\"}, \"colorscale\": [[0.0, \"#0d0887\"], [0.1111111111111111, \"#46039f\"], [0.2222222222222222, \"#7201a8\"], [0.3333333333333333, \"#9c179e\"], [0.4444444444444444, \"#bd3786\"], [0.5555555555555556, \"#d8576b\"], [0.6666666666666666, \"#ed7953\"], [0.7777777777777778, \"#fb9f3a\"], [0.8888888888888888, \"#fdca26\"], [1.0, \"#f0f921\"]], \"type\": \"contour\"}], \"contourcarpet\": [{\"colorbar\": {\"outlinewidth\": 0, \"ticks\": \"\"}, \"type\": \"contourcarpet\"}], \"heatmap\": [{\"colorbar\": {\"outlinewidth\": 0, \"ticks\": \"\"}, \"colorscale\": [[0.0, \"#0d0887\"], [0.1111111111111111, \"#46039f\"], [0.2222222222222222, \"#7201a8\"], [0.3333333333333333, \"#9c179e\"], [0.4444444444444444, \"#bd3786\"], [0.5555555555555556, \"#d8576b\"], [0.6666666666666666, \"#ed7953\"], [0.7777777777777778, \"#fb9f3a\"], [0.8888888888888888, \"#fdca26\"], [1.0, \"#f0f921\"]], \"type\": \"heatmap\"}], \"heatmapgl\": [{\"colorbar\": {\"outlinewidth\": 0, \"ticks\": \"\"}, \"colorscale\": [[0.0, \"#0d0887\"], [0.1111111111111111, \"#46039f\"], [0.2222222222222222, \"#7201a8\"], [0.3333333333333333, \"#9c179e\"], [0.4444444444444444, \"#bd3786\"], [0.5555555555555556, \"#d8576b\"], [0.6666666666666666, \"#ed7953\"], [0.7777777777777778, \"#fb9f3a\"], [0.8888888888888888, \"#fdca26\"], [1.0, \"#f0f921\"]], \"type\": \"heatmapgl\"}], \"histogram\": [{\"marker\": {\"colorbar\": {\"outlinewidth\": 0, \"ticks\": \"\"}}, \"type\": \"histogram\"}], \"histogram2d\": [{\"colorbar\": {\"outlinewidth\": 0, \"ticks\": \"\"}, \"colorscale\": [[0.0, \"#0d0887\"], [0.1111111111111111, \"#46039f\"], [0.2222222222222222, \"#7201a8\"], [0.3333333333333333, \"#9c179e\"], [0.4444444444444444, \"#bd3786\"], [0.5555555555555556, \"#d8576b\"], [0.6666666666666666, \"#ed7953\"], [0.7777777777777778, \"#fb9f3a\"], [0.8888888888888888, \"#fdca26\"], [1.0, \"#f0f921\"]], \"type\": \"histogram2d\"}], \"histogram2dcontour\": [{\"colorbar\": {\"outlinewidth\": 0, \"ticks\": \"\"}, \"colorscale\": [[0.0, \"#0d0887\"], [0.1111111111111111, \"#46039f\"], [0.2222222222222222, \"#7201a8\"], [0.3333333333333333, \"#9c179e\"], [0.4444444444444444, \"#bd3786\"], [0.5555555555555556, \"#d8576b\"], [0.6666666666666666, \"#ed7953\"], [0.7777777777777778, \"#fb9f3a\"], [0.8888888888888888, \"#fdca26\"], [1.0, \"#f0f921\"]], \"type\": \"histogram2dcontour\"}], \"mesh3d\": [{\"colorbar\": {\"outlinewidth\": 0, \"ticks\": \"\"}, \"type\": \"mesh3d\"}], \"parcoords\": [{\"line\": {\"colorbar\": {\"outlinewidth\": 0, \"ticks\": \"\"}}, \"type\": \"parcoords\"}], \"pie\": [{\"automargin\": true, \"type\": \"pie\"}], \"scatter\": [{\"marker\": {\"colorbar\": {\"outlinewidth\": 0, \"ticks\": \"\"}}, \"type\": \"scatter\"}], \"scatter3d\": [{\"line\": {\"colorbar\": {\"outlinewidth\": 0, \"ticks\": \"\"}}, \"marker\": {\"colorbar\": {\"outlinewidth\": 0, \"ticks\": \"\"}}, \"type\": \"scatter3d\"}], \"scattercarpet\": [{\"marker\": {\"colorbar\": {\"outlinewidth\": 0, \"ticks\": \"\"}}, \"type\": \"scattercarpet\"}], \"scattergeo\": [{\"marker\": {\"colorbar\": {\"outlinewidth\": 0, \"ticks\": \"\"}}, \"type\": \"scattergeo\"}], \"scattergl\": [{\"marker\": {\"colorbar\": {\"outlinewidth\": 0, \"ticks\": \"\"}}, \"type\": \"scattergl\"}], \"scattermapbox\": [{\"marker\": {\"colorbar\": {\"outlinewidth\": 0, \"ticks\": \"\"}}, \"type\": \"scattermapbox\"}], \"scatterpolar\": [{\"marker\": {\"colorbar\": {\"outlinewidth\": 0, \"ticks\": \"\"}}, \"type\": \"scatterpolar\"}], \"scatterpolargl\": [{\"marker\": {\"colorbar\": {\"outlinewidth\": 0, \"ticks\": \"\"}}, \"type\": \"scatterpolargl\"}], \"scatterternary\": [{\"marker\": {\"colorbar\": {\"outlinewidth\": 0, \"ticks\": \"\"}}, \"type\": \"scatterternary\"}], \"surface\": [{\"colorbar\": {\"outlinewidth\": 0, \"ticks\": \"\"}, \"colorscale\": [[0.0, \"#0d0887\"], [0.1111111111111111, \"#46039f\"], [0.2222222222222222, \"#7201a8\"], [0.3333333333333333, \"#9c179e\"], [0.4444444444444444, \"#bd3786\"], [0.5555555555555556, \"#d8576b\"], [0.6666666666666666, \"#ed7953\"], [0.7777777777777778, \"#fb9f3a\"], [0.8888888888888888, \"#fdca26\"], [1.0, \"#f0f921\"]], \"type\": \"surface\"}], \"table\": [{\"cells\": {\"fill\": {\"color\": \"#EBF0F8\"}, \"line\": {\"color\": \"white\"}}, \"header\": {\"fill\": {\"color\": \"#C8D4E3\"}, \"line\": {\"color\": \"white\"}}, \"type\": \"table\"}]}, \"layout\": {\"annotationdefaults\": {\"arrowcolor\": \"#2a3f5f\", \"arrowhead\": 0, \"arrowwidth\": 1}, \"coloraxis\": {\"colorbar\": {\"outlinewidth\": 0, \"ticks\": \"\"}}, \"colorscale\": {\"diverging\": [[0, \"#8e0152\"], [0.1, \"#c51b7d\"], [0.2, \"#de77ae\"], [0.3, \"#f1b6da\"], [0.4, \"#fde0ef\"], [0.5, \"#f7f7f7\"], [0.6, \"#e6f5d0\"], [0.7, \"#b8e186\"], [0.8, \"#7fbc41\"], [0.9, \"#4d9221\"], [1, \"#276419\"]], \"sequential\": [[0.0, \"#0d0887\"], [0.1111111111111111, \"#46039f\"], [0.2222222222222222, \"#7201a8\"], [0.3333333333333333, \"#9c179e\"], [0.4444444444444444, \"#bd3786\"], [0.5555555555555556, \"#d8576b\"], [0.6666666666666666, \"#ed7953\"], [0.7777777777777778, \"#fb9f3a\"], [0.8888888888888888, \"#fdca26\"], [1.0, \"#f0f921\"]], \"sequentialminus\": [[0.0, \"#0d0887\"], [0.1111111111111111, \"#46039f\"], [0.2222222222222222, \"#7201a8\"], [0.3333333333333333, \"#9c179e\"], [0.4444444444444444, \"#bd3786\"], [0.5555555555555556, \"#d8576b\"], [0.6666666666666666, \"#ed7953\"], [0.7777777777777778, \"#fb9f3a\"], [0.8888888888888888, \"#fdca26\"], [1.0, \"#f0f921\"]]}, \"colorway\": [\"#636efa\", \"#EF553B\", \"#00cc96\", \"#ab63fa\", \"#FFA15A\", \"#19d3f3\", \"#FF6692\", \"#B6E880\", \"#FF97FF\", \"#FECB52\"], \"font\": {\"color\": \"#2a3f5f\"}, \"geo\": {\"bgcolor\": \"white\", \"lakecolor\": \"white\", \"landcolor\": \"#E5ECF6\", \"showlakes\": true, \"showland\": true, \"subunitcolor\": \"white\"}, \"hoverlabel\": {\"align\": \"left\"}, \"hovermode\": \"closest\", \"mapbox\": {\"style\": \"light\"}, \"paper_bgcolor\": \"white\", \"plot_bgcolor\": \"#E5ECF6\", \"polar\": {\"angularaxis\": {\"gridcolor\": \"white\", \"linecolor\": \"white\", \"ticks\": \"\"}, \"bgcolor\": \"#E5ECF6\", \"radialaxis\": {\"gridcolor\": \"white\", \"linecolor\": \"white\", \"ticks\": \"\"}}, \"scene\": {\"xaxis\": {\"backgroundcolor\": \"#E5ECF6\", \"gridcolor\": \"white\", \"gridwidth\": 2, \"linecolor\": \"white\", \"showbackground\": true, \"ticks\": \"\", \"zerolinecolor\": \"white\"}, \"yaxis\": {\"backgroundcolor\": \"#E5ECF6\", \"gridcolor\": \"white\", \"gridwidth\": 2, \"linecolor\": \"white\", \"showbackground\": true, \"ticks\": \"\", \"zerolinecolor\": \"white\"}, \"zaxis\": {\"backgroundcolor\": \"#E5ECF6\", \"gridcolor\": \"white\", \"gridwidth\": 2, \"linecolor\": \"white\", \"showbackground\": true, \"ticks\": \"\", \"zerolinecolor\": \"white\"}}, \"shapedefaults\": {\"line\": {\"color\": \"#2a3f5f\"}}, \"ternary\": {\"aaxis\": {\"gridcolor\": \"white\", \"linecolor\": \"white\", \"ticks\": \"\"}, \"baxis\": {\"gridcolor\": \"white\", \"linecolor\": \"white\", \"ticks\": \"\"}, \"bgcolor\": \"#E5ECF6\", \"caxis\": {\"gridcolor\": \"white\", \"linecolor\": \"white\", \"ticks\": \"\"}}, \"title\": {\"x\": 0.05}, \"xaxis\": {\"automargin\": true, \"gridcolor\": \"white\", \"linecolor\": \"white\", \"ticks\": \"\", \"title\": {\"standoff\": 15}, \"zerolinecolor\": \"white\", \"zerolinewidth\": 2}, \"yaxis\": {\"automargin\": true, \"gridcolor\": \"white\", \"linecolor\": \"white\", \"ticks\": \"\", \"title\": {\"standoff\": 15}, \"zerolinecolor\": \"white\", \"zerolinewidth\": 2}}}, \"xaxis\": {\"anchor\": \"y\", \"domain\": [0.0, 1.0], \"title\": {\"text\": \"pc_1\"}}, \"yaxis\": {\"anchor\": \"x\", \"domain\": [0.0, 1.0], \"title\": {\"text\": \"pc_2\"}}},\n",
       "                        {\"responsive\": true}\n",
       "                    ).then(function(){\n",
       "                            \n",
       "var gd = document.getElementById('6b694af3-7042-47e3-98dc-e31413fd1e4d');\n",
       "var x = new MutationObserver(function (mutations, observer) {{\n",
       "        var display = window.getComputedStyle(gd).display;\n",
       "        if (!display || display === 'none') {{\n",
       "            console.log([gd, 'removed!']);\n",
       "            Plotly.purge(gd);\n",
       "            observer.disconnect();\n",
       "        }}\n",
       "}});\n",
       "\n",
       "// Listen for the removal of the full notebook cells\n",
       "var notebookContainer = gd.closest('#notebook-container');\n",
       "if (notebookContainer) {{\n",
       "    x.observe(notebookContainer, {childList: true});\n",
       "}}\n",
       "\n",
       "// Listen for the clearing of the current output cell\n",
       "var outputEl = gd.closest('.output');\n",
       "if (outputEl) {{\n",
       "    x.observe(outputEl, {childList: true});\n",
       "}}\n",
       "\n",
       "                        })\n",
       "                };\n",
       "                });\n",
       "            </script>\n",
       "        </div>"
      ]
     },
     "metadata": {},
     "output_type": "display_data"
    }
   ],
   "source": [
    "cluster_2019 = Cluster(dataframes['df_2019'], 7, 'gaussian')\n",
    "cluster_2019.visualize_clusters()"
   ]
  },
  {
   "cell_type": "markdown",
   "metadata": {},
   "source": [
    "### K-Means - Choosing number of clusters K (Silhouette Score)"
   ]
  },
  {
   "cell_type": "code",
   "execution_count": 70,
   "metadata": {},
   "outputs": [],
   "source": [
    "from sklearn.metrics import silhouette_samples, silhouette_score\n",
    "import matplotlib.cm as cm"
   ]
  },
  {
   "cell_type": "code",
   "execution_count": 79,
   "metadata": {},
   "outputs": [
    {
     "data": {
      "text/plain": [
       "0   -0.114057\n",
       "1   -0.051715\n",
       "2   -0.197478\n",
       "3    0.215077\n",
       "4    0.154152\n",
       "5    0.279009\n",
       "6   -0.140509\n",
       "7   -0.040331\n",
       "dtype: float64"
      ]
     },
     "execution_count": 79,
     "metadata": {},
     "output_type": "execute_result"
    }
   ],
   "source": [
    "centers.mean(axis=1)"
   ]
  },
  {
   "cell_type": "code",
   "execution_count": 89,
   "metadata": {
    "scrolled": false
   },
   "outputs": [
    {
     "name": "stdout",
     "output_type": "stream",
     "text": [
      "For n_clusters = 4 The average silhouette_score is : 0.11212705982525363\n",
      "For n_clusters = 5 The average silhouette_score is : 0.12460795035202334\n",
      "For n_clusters = 6 The average silhouette_score is : 0.12335714545494414\n",
      "For n_clusters = 7 The average silhouette_score is : 0.1130708314279361\n",
      "For n_clusters = 8 The average silhouette_score is : 0.09633855114662708\n"
     ]
    },
    {
     "data": {
      "image/png": "[encoded data removed]",
      "text/plain": [
       "<Figure size 1296x504 with 2 Axes>"
      ]
     },
     "metadata": {
      "needs_background": "light"
     },
     "output_type": "display_data"
    },
    {
     "data": {
      "image/png": "[encoded data removed]",
      "text/plain": [
       "<Figure size 1296x504 with 2 Axes>"
      ]
     },
     "metadata": {
      "needs_background": "light"
     },
     "output_type": "display_data"
    },
    {
     "data": {
      "image/png": "[encoded data removed]",
      "text/plain": [
       "<Figure size 1296x504 with 2 Axes>"
      ]
     },
     "metadata": {
      "needs_background": "light"
     },
     "output_type": "display_data"
    },
    {
     "data": {
      "image/png": "[encoded data removed]",
      "text/plain": [
       "<Figure size 1296x504 with 2 Axes>"
      ]
     },
     "metadata": {
      "needs_background": "light"
     },
     "output_type": "display_data"
    },
    {
     "data": {
      "image/png": "[encoded data removed]",
      "text/plain": [
       "<Figure size 1296x504 with 2 Axes>"
      ]
     },
     "metadata": {
      "needs_background": "light"
     },
     "output_type": "display_data"
    }
   ],
   "source": [
    "range_n_clusters = [4, 5, 6, 7, 8]\n",
    "X = CleanDataframe(dataframes['df_2019'])\n",
    "\n",
    "for n_clusters in range_n_clusters:\n",
    "    # Create a subplot with 1 row and 2 columns\n",
    "    fig, (ax1, ax2) = plt.subplots(1, 2)\n",
    "    fig.set_size_inches(18, 7)\n",
    "\n",
    "    # The 1st subplot is the silhouette plot\n",
    "    # The silhouette coefficient can range from -1, 1 but in this example all\n",
    "    # lie within [-0.1, 1]\n",
    "    ax1.set_xlim([-0.1, 1])\n",
    "    # The (n_clusters+1)*10 is for inserting blank space between silhouette\n",
    "    # plots of individual clusters, to demarcate them clearly.\n",
    "    ax1.set_ylim([0, len(cluster.df_scaled) + (n_clusters + 1) * 10])\n",
    "\n",
    "    # Initialize the clusterer with n_clusters value and a random generator\n",
    "    # seed of 10 for reproducibility.\n",
    "    clusterer = KMeans(n_clusters=n_clusters, random_state=42)\n",
    "    cluster_labels = clusterer.fit_predict(X.df_scaled)\n",
    "    \n",
    "    # The silhouette_score gives the average value for all the samples.\n",
    "    # This gives a perspective into the density and separation of the formed\n",
    "    # clusters\n",
    "    silhouette_avg = silhouette_score(X.df_scaled, cluster_labels)\n",
    "    print(\"For n_clusters =\", n_clusters,\n",
    "          \"The average silhouette_score is :\", silhouette_avg)\n",
    "\n",
    "    # Compute the silhouette scores for each sample\n",
    "    sample_silhouette_values = silhouette_samples(X.df_scaled, cluster_labels)\n",
    "\n",
    "    y_lower = 10\n",
    "    for i in range(n_clusters):\n",
    "        # Aggregate the silhouette scores for samples belonging to\n",
    "        # cluster i, and sort them\n",
    "        ith_cluster_silhouette_values = \\\n",
    "            sample_silhouette_values[cluster_labels == i]\n",
    "\n",
    "        ith_cluster_silhouette_values.sort()\n",
    "\n",
    "        size_cluster_i = ith_cluster_silhouette_values.shape[0]\n",
    "        y_upper = y_lower + size_cluster_i\n",
    "\n",
    "        color = cm.nipy_spectral(float(i) / n_clusters)\n",
    "        ax1.fill_betweenx(np.arange(y_lower, y_upper),\n",
    "                          0, ith_cluster_silhouette_values,\n",
    "                          facecolor=color, edgecolor=color, alpha=0.7)\n",
    "\n",
    "        # Label the silhouette plots with their cluster numbers at the middle\n",
    "        ax1.text(-0.05, y_lower + 0.5 * size_cluster_i, str(i))\n",
    "\n",
    "        # Compute the new y_lower for next plot\n",
    "        y_lower = y_upper + 10  # 10 for the 0 samples\n",
    "\n",
    "    ax1.set_title(\"The silhouette plot for the various clusters.\")\n",
    "    ax1.set_xlabel(\"The silhouette coefficient values\")\n",
    "    ax1.set_ylabel(\"Cluster label\")\n",
    "\n",
    "    # The vertical line for average silhouette score of all the values\n",
    "    ax1.axvline(x=silhouette_avg, color=\"red\", linestyle=\"--\")\n",
    "\n",
    "    ax1.set_yticks([])  # Clear the yaxis labels / ticks\n",
    "    ax1.set_xticks([-0.1, 0, 0.2, 0.4, 0.6, 0.8, 1])\n",
    "\n",
    "    # 2nd Plot showing the actual clusters formed\n",
    "    colors = cm.nipy_spectral(cluster_labels.astype(float) / n_clusters)\n",
    "    ax2.scatter(cluster.df_pca.iloc[:, 0],\n",
    "                cluster.df_pca.iloc[:, 1],\n",
    "                marker='.',\n",
    "                s=30,\n",
    "                lw=0,\n",
    "                alpha=0.7,\n",
    "                c=colors,\n",
    "                edgecolor='k')\n",
    "\n",
    "\n",
    "    # Labeling the clusters\n",
    "    clusterer.fit_predict(X.df_pca)\n",
    "    centers = clusterer.cluster_centers_\n",
    "    # Draw white circles at cluster centers\n",
    "    ax2.scatter(centers[:, 0], centers[:, 1], marker='o',\n",
    "                c=\"white\", alpha=1, s=200, edgecolor='k')\n",
    "\n",
    "    for i, c in enumerate(centers):\n",
    "        ax2.scatter(c[0], c[1], marker='$%d$' % i, alpha=1,\n",
    "                    s=50, edgecolor='k')\n",
    "\n",
    "    ax2.set_title(\"The visualization of the clustered data.\")\n",
    "    ax2.set_xlabel(\"Feature space for the 1st feature\")\n",
    "    ax2.set_ylabel(\"Feature space for the 2nd feature\")\n",
    "\n",
    "    plt.suptitle((\"Silhouette analysis for KMeans clustering on sample data \"\n",
    "                  \"with n_clusters = %d\" % n_clusters),\n",
    "                 fontsize=14, fontweight='bold')\n",
    "\n",
    "plt.show()"
   ]
  },
  {
   "cell_type": "code",
   "execution_count": 92,
   "metadata": {},
   "outputs": [
    {
     "data": {
      "application/vnd.plotly.v1+json": {
       "config": {
        "plotlyServerURL": "https://plot.ly"
       },
       "data": [
        {
         "customdata": [
          [
           "01"
          ],
          [
           "01"
          ],
          [
           "01"
          ],
          [
           "01"
          ],
          [
           "01"
          ],
          [
           "01"
          ],
          [
           "01"
          ],
          [
           "01"
          ],
          [
           "01"
          ],
          [
           "01"
          ],
          [
           "02"
          ],
          [
           "02"
          ],
          [
           "02"
          ],
          [
           "02"
          ],
          [
           "02"
          ],
          [
           "02"
          ],
          [
           "02"
          ],
          [
           "02"
          ],
          [
           "03"
          ],
          [
           "03"
          ],
          [
           "03"
          ],
          [
           "03"
          ],
          [
           "03"
          ],
          [
           "03"
          ],
          [
           "03"
          ],
          [
           "03"
          ],
          [
           "03"
          ],
          [
           "03"
          ],
          [
           "03"
          ],
          [
           "03"
          ],
          [
           "03"
          ],
          [
           "03"
          ],
          [
           "03"
          ],
          [
           "03"
          ],
          [
           "04"
          ],
          [
           "04"
          ],
          [
           "04"
          ],
          [
           "04"
          ],
          [
           "04"
          ],
          [
           "04"
          ],
          [
           "04"
          ],
          [
           "04"
          ],
          [
           "04"
          ],
          [
           "04"
          ],
          [
           "04"
          ],
          [
           "04"
          ],
          [
           "04"
          ],
          [
           "04"
          ],
          [
           "04"
          ],
          [
           "04"
          ],
          [
           "04"
          ],
          [
           "05"
          ],
          [
           "05"
          ],
          [
           "05"
          ],
          [
           "05"
          ],
          [
           "05"
          ],
          [
           "05"
          ],
          [
           "05"
          ],
          [
           "05"
          ],
          [
           "05"
          ],
          [
           "06"
          ],
          [
           "06"
          ],
          [
           "06"
          ],
          [
           "06"
          ],
          [
           "06"
          ],
          [
           "06"
          ],
          [
           "06"
          ],
          [
           "06"
          ],
          [
           "07"
          ],
          [
           "07"
          ],
          [
           "07"
          ],
          [
           "07"
          ],
          [
           "07"
          ],
          [
           "07"
          ],
          [
           "07"
          ],
          [
           "08"
          ],
          [
           "08"
          ],
          [
           "08"
          ],
          [
           "08"
          ],
          [
           "08"
          ],
          [
           "08"
          ],
          [
           "08"
          ],
          [
           "08"
          ],
          [
           "08"
          ],
          [
           "08"
          ],
          [
           "09"
          ],
          [
           "09"
          ],
          [
           "09"
          ],
          [
           "09"
          ],
          [
           "09"
          ],
          [
           "09"
          ],
          [
           "09"
          ],
          [
           "09"
          ],
          [
           "09"
          ],
          [
           "09"
          ],
          [
           "09"
          ],
          [
           "09"
          ],
          [
           "09"
          ],
          [
           "09"
          ],
          [
           "09"
          ],
          [
           "09"
          ],
          [
           "09"
          ],
          [
           "09"
          ],
          [
           "09"
          ],
          [
           "09"
          ],
          [
           "10"
          ],
          [
           "10"
          ],
          [
           "10"
          ],
          [
           "10"
          ],
          [
           "10"
          ],
          [
           "10"
          ],
          [
           "10"
          ],
          [
           "10"
          ],
          [
           "10"
          ],
          [
           "11"
          ],
          [
           "11"
          ],
          [
           "11"
          ],
          [
           "11"
          ],
          [
           "11"
          ],
          [
           "11"
          ],
          [
           "11"
          ],
          [
           "11"
          ],
          [
           "11"
          ],
          [
           "11"
          ],
          [
           "11"
          ],
          [
           "11"
          ],
          [
           "11"
          ],
          [
           "12"
          ],
          [
           "12"
          ],
          [
           "12"
          ],
          [
           "12"
          ],
          [
           "12"
          ],
          [
           "12"
          ],
          [
           "12"
          ],
          [
           "12"
          ],
          [
           "12"
          ],
          [
           "12"
          ],
          [
           "12"
          ]
         ],
         "hovertemplate": "<b>%{hovertext}</b><br><br>pc_1=%{x}<br>pc_2=%{y}<br>Bezirk=%{customdata[0]}<br>cluster=%{marker.color}<extra></extra>",
         "hovertext": [
          "Tiergarten Süd",
          "Regierungsviertel",
          "Alexanderplatz",
          "Brunnenstraße Süd",
          "Moabit West",
          "Moabit Ost",
          "Osloer Straße",
          "Brunnenstraße Nord",
          "Parkviertel",
          "Wedding Zentrum",
          "Südliche Friedrichstadt",
          "Tempelhofer Vorstadt",
          "Nördliche Luisenstadt",
          "Südliche Luisenstadt",
          "Karl-Marx-Allee Nord",
          "Karl-Marx-Allee Süd",
          "Frankfurter Allee Nord",
          "Frankfurter Allee Süd FK",
          "Buch",
          "Blankenfelde/Niederschönhausen",
          "Buchholz",
          "Karow",
          "Blankenburg/Heinersdorf/Märchenland",
          "Schönholz/Wilhelmsruh/Rosenthal",
          "Pankow Zentrum",
          "Pankow Süd",
          "Weißensee",
          "Weißensee Ost",
          "Prenzlauer Berg Nordwest",
          "Prenzlauer Berg Nord",
          "Helmholtzplatz",
          "Prenzlauer Berg Ost",
          "Prenzlauer Berg Südwest",
          "Prenzlauer Berg Süd",
          "Charlottenburg Nord",
          "Heerstraße",
          "Westend",
          "Schloß Charlottenburg",
          "Mierendorffplatz",
          "Otto-Suhr-Allee",
          "Neue Kantstraße",
          "Kantstraße",
          "Kurfürstendamm",
          "Halensee",
          "Grunewald",
          "Schmargendorf",
          "Wiesbadener Straße",
          "Düsseldorfer Straße",
          "Barstraße",
          "Volkspark Wilmersdorf",
          "Forst Grunewald",
          "Hakenfelde",
          "Falkenhagener Feld",
          "Spandau Mitte",
          "Brunsbütteler Damm",
          "Heerstraße Nord",
          "Wilhelmstadt",
          "Haselhorst",
          "Siemensstadt",
          "Gatow/Kladow",
          "Schloßstraße",
          "Albrechtstraße",
          "Lankwitz",
          "Ostpreußendamm",
          "Teltower Damm",
          "Drakestraße",
          "Zehlendorf Südwest",
          "Zehlendorf Nord",
          "Schöneberg Nord",
          "Schöneberg Süd",
          "Friedenau",
          "Tempelhof",
          "Mariendorf",
          "Marienfelde",
          "Lichtenrade",
          "Schillerpromenade",
          "Neuköllner Mitte/Zentrum",
          "Reuterstraße",
          "Rixdorf",
          "Köllnische Heide",
          "Britz",
          "Buckow",
          "Gropiusstadt",
          "Buckow Nord",
          "Rudow",
          "Alt-Treptow",
          "Plänterwald",
          "Baumschulenweg",
          "Johannisthal",
          "Oberschöneweide",
          "Niederschöneweide",
          "Adlershof",
          "Köllnische Vorstadt/Spindlersfeld",
          "Altglienicke",
          "Bohnsdorf",
          "Grünau",
          "Schmöckwitz/Karolinenhof/Rauchfangswerder",
          "Köpenick Süd",
          "Allende-Viertel",
          "Altstadt-Kietz",
          "Müggelheim",
          "Friedrichshagen",
          "Rahnsdorf/Hessenwinkel",
          "Dammvorstadt",
          "Köpenick Nord",
          "Marzahn Nord",
          "Marzahn Mitte",
          "Marzahn Süd",
          "Hellersdorf Nord",
          "Hellersdorf Ost",
          "Hellersdorf Süd",
          "Biesdorf",
          "Kaulsdorf",
          "Mahlsdorf",
          "Malchow, Wartenberg und Falkenberg",
          "Neu-Hohenschönhausen Nord",
          "Neu-Hohenschönhausen Süd",
          "Alt-Hohenschönhausen Nord",
          "Alt-Hohenschönhausen Süd",
          "Fennpfuhl",
          "Alt-Lichtenberg",
          "Frankfurter Allee Süd",
          "Neu-Lichtenberg",
          "Friedrichsfelde Nord",
          "Friedrichsfelde Süd",
          "Rummelsburger Bucht",
          "Karlshorst",
          "Ost 1 - Reginhardstraße",
          "Ost 2 - Alt-Reinickendorf",
          "West 1 - Tegel-Süd/Flughafensee",
          "West 4 - Auguste-Viktoria-Allee",
          "West 5 - Tegel/Tegeler Forst",
          "West 2 - Heiligensee/Konradshöhe",
          "Nord 1 - Frohnau/Hermsdorf",
          "Nord 2 - Waidmannslust/Wittenau/Lübars",
          "MV 1 - Märkisches Viertel",
          "MV 2 - Rollbergesiedlung",
          "West 3 - Borsigwalde/Freie Scholle"
         ],
         "legendgroup": "",
         "marker": {
          "color": [
           1,
           1,
           1,
           1,
           2,
           3,
           2,
           2,
           2,
           2,
           2,
           2,
           1,
           1,
           1,
           1,
           1,
           1,
           4,
           0,
           0,
           0,
           0,
           0,
           1,
           1,
           1,
           0,
           1,
           1,
           1,
           1,
           1,
           1,
           3,
           1,
           1,
           1,
           1,
           1,
           1,
           1,
           1,
           1,
           1,
           1,
           1,
           1,
           1,
           1,
           0,
           3,
           3,
           3,
           0,
           3,
           3,
           0,
           0,
           0,
           1,
           3,
           3,
           3,
           1,
           3,
           0,
           1,
           2,
           2,
           1,
           2,
           3,
           3,
           3,
           2,
           2,
           2,
           2,
           3,
           3,
           3,
           3,
           0,
           3,
           1,
           0,
           0,
           0,
           4,
           0,
           0,
           0,
           0,
           0,
           0,
           0,
           0,
           4,
           0,
           0,
           0,
           0,
           0,
           0,
           4,
           4,
           4,
           4,
           4,
           4,
           0,
           0,
           0,
           0,
           4,
           4,
           4,
           4,
           4,
           4,
           4,
           1,
           4,
           4,
           0,
           0,
           3,
           3,
           0,
           3,
           0,
           0,
           0,
           0,
           3,
           0,
           0
          ],
          "coloraxis": "coloraxis",
          "size": 10,
          "symbol": "circle"
         },
         "mode": "markers",
         "name": "",
         "orientation": "v",
         "showlegend": false,
         "type": "scatter",
         "x": [
          1.095221726313698,
          -0.37395459782916746,
          10.991002414058785,
          7.272189966999242,
          10.918576058322136,
          7.777550383740198,
          10.28550229283353,
          8.788257480032758,
          8.092322102860631,
          16.73095663987111,
          10.026616317306829,
          15.690116061653367,
          3.425341384670597,
          5.531232823622947,
          -0.834961286114439,
          1.4778223557912282,
          3.9362088430357045,
          9.71551150886999,
          -5.806069378281459,
          -2.5830849616901115,
          -5.9541281930514645,
          -6.113590250060807,
          -5.811624322573482,
          -4.217011347702854,
          -0.3407871571139955,
          -0.5834069412479497,
          0.5962702341277424,
          -5.419441374789614,
          3.120852734025696,
          1.4458453751239047,
          3.1210436595762348,
          -1.0129605861361746,
          5.070446228190045,
          4.011247090286399,
          -1.2766615292142456,
          -2.0592736722555474,
          1.4614461165820538,
          2.2090570299322385,
          -0.24752294879887451,
          3.6426367135423114,
          3.429906703618975,
          3.314745325767643,
          0.7638628738625153,
          -0.10395023412032867,
          -0.7838069882391934,
          -2.080381559877116,
          -1.194169967715923,
          4.630981353235834,
          -0.2180128842141677,
          4.589893508249173,
          -5.999818972790188,
          -2.734980824547972,
          1.4891190478884355,
          5.035537346138557,
          -2.83881882802344,
          -0.02956789763943909,
          2.5283182017893604,
          -2.834199256893016,
          -2.166848689014841,
          -4.2452495865309805,
          0.5759987022556916,
          6.237928534526952,
          1.981339993183041,
          0.22951687983110694,
          0.2978009535283238,
          4.4678012132424865,
          -1.6634515214541716,
          2.0338985514669154,
          11.870057837216772,
          10.133276336905896,
          6.078838101081983,
          10.39756368873831,
          5.523977855658912,
          -1.0061820224022493,
          2.0055383027616287,
          7.9626467133230285,
          10.469304634928974,
          10.062102102161342,
          10.846633441914365,
          0.45266199589448036,
          4.585858917299586,
          -0.14855673036900655,
          2.688329998091281,
          -4.226938648747574,
          1.108186375682171,
          -0.8320512598329659,
          -3.6643397421933304,
          -3.07993891883684,
          -4.153783070892746,
          -1.8280682135358948,
          -4.449770906393128,
          -3.1831742968302885,
          -5.663699372164112,
          -3.874824396792499,
          -5.532773396392562,
          -6.783862161179245,
          -8.04116400468168,
          -7.197069550159394,
          -8.009772423928688,
          -5.114846452106771,
          -9.046379371981912,
          -4.990037691707028,
          -7.550099813904579,
          -5.680037481544337,
          -6.181352564445407,
          -6.252609597159915,
          -2.693658411777939,
          -5.1791282683708015,
          -2.977583664688258,
          -5.580627510420586,
          -6.346918380793539,
          -6.173855439176657,
          -6.942780279650871,
          -5.929555148199662,
          -8.514330328758115,
          -4.3270103958148045,
          -4.51582315077295,
          -5.597153490568286,
          -3.4477611323204678,
          -1.7539920238694222,
          -0.746554456036222,
          -4.627838786486165,
          -0.09575682153295084,
          -4.4844003929438845,
          -4.651811078736831,
          -5.511966778086935,
          -3.2851268107480984,
          3.1239695265523473,
          1.0655641351115046,
          -3.0524044363994522,
          2.9043432507762637,
          -4.155489425455356,
          -4.125590912209115,
          -1.8552208360085651,
          -1.3846734230764577,
          2.944666659450223,
          -4.637769596221292,
          -3.649593378276706
         ],
         "xaxis": "x",
         "y": [
          3.944291978440455,
          7.543315790152053,
          4.938918840350729,
          10.584781211924875,
          -2.4051156598700745,
          -1.576865469778966,
          -5.8495175309929275,
          -5.425947483719351,
          -5.1325688526539395,
          -6.405853814222141,
          -3.523277012438957,
          3.218359196423677,
          2.579647720252948,
          5.143342625080426,
          3.1944298162021108,
          2.647114819724087,
          6.643248164167489,
          6.500285367708826,
          -1.4603021190022596,
          3.1878170637531564,
          0.836548590410752,
          -0.663281672726616,
          0.42587049753846573,
          1.2714968993283644,
          2.2747589913649406,
          2.1998146990357403,
          2.3048096559554843,
          0.754713417803074,
          8.699692269182718,
          6.711839874689778,
          10.22557884248888,
          1.8788138632684723,
          10.917690658561444,
          7.842920838624979,
          -3.7363026431073343,
          6.525519282965306,
          3.274960386626615,
          2.3534420705579624,
          2.889943191658549,
          1.7883760626644871,
          7.119339803869972,
          5.3025773572972,
          7.505103016384804,
          6.4916203756120305,
          5.006966251338804,
          5.401648225015206,
          4.398092228109999,
          5.266967314644368,
          2.357496615578992,
          3.9884869322669547,
          6.969649676245706,
          -4.656836052003488,
          -8.999072395861091,
          -6.095388602294275,
          -2.550708322124109,
          -8.333432916531066,
          -5.280162940413928,
          -2.450237738949658,
          -2.308328527571925,
          3.2018456603443917,
          4.096241917608567,
          -2.988721625574775,
          -4.549333523693383,
          -1.509497005893608,
          2.735107407170085,
          0.14098910044491203,
          5.1006946834508895,
          4.5443836528930674,
          -0.904886323988346,
          1.0451373515635032,
          1.5512601066058733,
          -6.073913376647318,
          -7.296516561104203,
          -6.778235359989769,
          -7.045816848352153,
          0.5021382382332723,
          -1.9307701416071854,
          1.8345669626004197,
          -1.1758009547290802,
          -5.864954114216855,
          -6.179174543240013,
          -5.978703642249083,
          -9.169285247079284,
          -2.29920143483973,
          -6.111263311732333,
          4.471033797986342,
          3.698461191689927,
          -0.29324988210916325,
          0.1464593474098465,
          -1.927515386733558,
          0.5253111706272516,
          0.769334351632956,
          -0.17504734863298602,
          -3.018073480856724,
          2.107139857759165,
          3.284482860232914,
          2.6519432459125243,
          3.464116338681255,
          0.46398893435102223,
          1.4459718491077498,
          1.3010613823952693,
          3.6856385737894373,
          2.84119565536182,
          2.6373229368375983,
          3.306366717966483,
          -6.2884614118643265,
          -8.778693240593512,
          -6.518782684361585,
          -7.585492807002129,
          -3.8773889790347478,
          -4.43453944728655,
          -1.7622821566087885,
          0.8523437262282845,
          -0.0338811552919877,
          -1.7076595502942715,
          -7.972574204825104,
          -6.295817299636915,
          -3.9840970342323,
          -4.186826541707538,
          -4.09834010906929,
          -2.4237080057665863,
          -2.8407422343287574,
          1.3439382513352716,
          -1.838057257609644,
          -3.930621673851991,
          3.6252997537004035,
          1.5531744914601477,
          -5.572244506567858,
          -3.6705584499343464,
          -1.4183560669189703,
          -6.011746228326872,
          0.9874106432803748,
          1.8268734345428514,
          3.1407147157548234,
          -2.054608986296642,
          -8.689327549376696,
          -3.3853283252089783,
          -0.5089430187014443
         ],
         "yaxis": "y"
        },
        {
         "marker": {
          "color": "DarkSlateGrey",
          "opacity": 0.2,
          "size": 15
         },
         "mode": "markers",
         "showlegend": false,
         "type": "scatter",
         "x": [
          -3.6608446802063126,
          1.3531866920849636,
          9.877128193179473,
          -5.614546806219446,
          1.864413696893842
         ],
         "y": [
          -3.387174027916794,
          4.883044752818132,
          -1.1830791541145924,
          1.781998985207914,
          -6.689106110086485
         ]
        }
       ],
       "layout": {
        "coloraxis": {
         "colorbar": {
          "title": {
           "text": "cluster"
          }
         },
         "colorscale": [
          [
           0,
           "#0d0887"
          ],
          [
           0.1111111111111111,
           "#46039f"
          ],
          [
           0.2222222222222222,
           "#7201a8"
          ],
          [
           0.3333333333333333,
           "#9c179e"
          ],
          [
           0.4444444444444444,
           "#bd3786"
          ],
          [
           0.5555555555555556,
           "#d8576b"
          ],
          [
           0.6666666666666666,
           "#ed7953"
          ],
          [
           0.7777777777777778,
           "#fb9f3a"
          ],
          [
           0.8888888888888888,
           "#fdca26"
          ],
          [
           1,
           "#f0f921"
          ]
         ]
        },
        "legend": {
         "tracegroupgap": 0
        },
        "margin": {
         "t": 60
        },
        "template": {
         "data": {
          "bar": [
           {
            "error_x": {
             "color": "#2a3f5f"
            },
            "error_y": {
             "color": "#2a3f5f"
            },
            "marker": {
             "line": {
              "color": "#E5ECF6",
              "width": 0.5
             }
            },
            "type": "bar"
           }
          ],
          "barpolar": [
           {
            "marker": {
             "line": {
              "color": "#E5ECF6",
              "width": 0.5
             }
            },
            "type": "barpolar"
           }
          ],
          "carpet": [
           {
            "aaxis": {
             "endlinecolor": "#2a3f5f",
             "gridcolor": "white",
             "linecolor": "white",
             "minorgridcolor": "white",
             "startlinecolor": "#2a3f5f"
            },
            "baxis": {
             "endlinecolor": "#2a3f5f",
             "gridcolor": "white",
             "linecolor": "white",
             "minorgridcolor": "white",
             "startlinecolor": "#2a3f5f"
            },
            "type": "carpet"
           }
          ],
          "choropleth": [
           {
            "colorbar": {
             "outlinewidth": 0,
             "ticks": ""
            },
            "type": "choropleth"
           }
          ],
          "contour": [
           {
            "colorbar": {
             "outlinewidth": 0,
             "ticks": ""
            },
            "colorscale": [
             [
              0,
              "#0d0887"
             ],
             [
              0.1111111111111111,
              "#46039f"
             ],
             [
              0.2222222222222222,
              "#7201a8"
             ],
             [
              0.3333333333333333,
              "#9c179e"
             ],
             [
              0.4444444444444444,
              "#bd3786"
             ],
             [
              0.5555555555555556,
              "#d8576b"
             ],
             [
              0.6666666666666666,
              "#ed7953"
             ],
             [
              0.7777777777777778,
              "#fb9f3a"
             ],
             [
              0.8888888888888888,
              "#fdca26"
             ],
             [
              1,
              "#f0f921"
             ]
            ],
            "type": "contour"
           }
          ],
          "contourcarpet": [
           {
            "colorbar": {
             "outlinewidth": 0,
             "ticks": ""
            },
            "type": "contourcarpet"
           }
          ],
          "heatmap": [
           {
            "colorbar": {
             "outlinewidth": 0,
             "ticks": ""
            },
            "colorscale": [
             [
              0,
              "#0d0887"
             ],
             [
              0.1111111111111111,
              "#46039f"
             ],
             [
              0.2222222222222222,
              "#7201a8"
             ],
             [
              0.3333333333333333,
              "#9c179e"
             ],
             [
              0.4444444444444444,
              "#bd3786"
             ],
             [
              0.5555555555555556,
              "#d8576b"
             ],
             [
              0.6666666666666666,
              "#ed7953"
             ],
             [
              0.7777777777777778,
              "#fb9f3a"
             ],
             [
              0.8888888888888888,
              "#fdca26"
             ],
             [
              1,
              "#f0f921"
             ]
            ],
            "type": "heatmap"
           }
          ],
          "heatmapgl": [
           {
            "colorbar": {
             "outlinewidth": 0,
             "ticks": ""
            },
            "colorscale": [
             [
              0,
              "#0d0887"
             ],
             [
              0.1111111111111111,
              "#46039f"
             ],
             [
              0.2222222222222222,
              "#7201a8"
             ],
             [
              0.3333333333333333,
              "#9c179e"
             ],
             [
              0.4444444444444444,
              "#bd3786"
             ],
             [
              0.5555555555555556,
              "#d8576b"
             ],
             [
              0.6666666666666666,
              "#ed7953"
             ],
             [
              0.7777777777777778,
              "#fb9f3a"
             ],
             [
              0.8888888888888888,
              "#fdca26"
             ],
             [
              1,
              "#f0f921"
             ]
            ],
            "type": "heatmapgl"
           }
          ],
          "histogram": [
           {
            "marker": {
             "colorbar": {
              "outlinewidth": 0,
              "ticks": ""
             }
            },
            "type": "histogram"
           }
          ],
          "histogram2d": [
           {
            "colorbar": {
             "outlinewidth": 0,
             "ticks": ""
            },
            "colorscale": [
             [
              0,
              "#0d0887"
             ],
             [
              0.1111111111111111,
              "#46039f"
             ],
             [
              0.2222222222222222,
              "#7201a8"
             ],
             [
              0.3333333333333333,
              "#9c179e"
             ],
             [
              0.4444444444444444,
              "#bd3786"
             ],
             [
              0.5555555555555556,
              "#d8576b"
             ],
             [
              0.6666666666666666,
              "#ed7953"
             ],
             [
              0.7777777777777778,
              "#fb9f3a"
             ],
             [
              0.8888888888888888,
              "#fdca26"
             ],
             [
              1,
              "#f0f921"
             ]
            ],
            "type": "histogram2d"
           }
          ],
          "histogram2dcontour": [
           {
            "colorbar": {
             "outlinewidth": 0,
             "ticks": ""
            },
            "colorscale": [
             [
              0,
              "#0d0887"
             ],
             [
              0.1111111111111111,
              "#46039f"
             ],
             [
              0.2222222222222222,
              "#7201a8"
             ],
             [
              0.3333333333333333,
              "#9c179e"
             ],
             [
              0.4444444444444444,
              "#bd3786"
             ],
             [
              0.5555555555555556,
              "#d8576b"
             ],
             [
              0.6666666666666666,
              "#ed7953"
             ],
             [
              0.7777777777777778,
              "#fb9f3a"
             ],
             [
              0.8888888888888888,
              "#fdca26"
             ],
             [
              1,
              "#f0f921"
             ]
            ],
            "type": "histogram2dcontour"
           }
          ],
          "mesh3d": [
           {
            "colorbar": {
             "outlinewidth": 0,
             "ticks": ""
            },
            "type": "mesh3d"
           }
          ],
          "parcoords": [
           {
            "line": {
             "colorbar": {
              "outlinewidth": 0,
              "ticks": ""
             }
            },
            "type": "parcoords"
           }
          ],
          "pie": [
           {
            "automargin": true,
            "type": "pie"
           }
          ],
          "scatter": [
           {
            "marker": {
             "colorbar": {
              "outlinewidth": 0,
              "ticks": ""
             }
            },
            "type": "scatter"
           }
          ],
          "scatter3d": [
           {
            "line": {
             "colorbar": {
              "outlinewidth": 0,
              "ticks": ""
             }
            },
            "marker": {
             "colorbar": {
              "outlinewidth": 0,
              "ticks": ""
             }
            },
            "type": "scatter3d"
           }
          ],
          "scattercarpet": [
           {
            "marker": {
             "colorbar": {
              "outlinewidth": 0,
              "ticks": ""
             }
            },
            "type": "scattercarpet"
           }
          ],
          "scattergeo": [
           {
            "marker": {
             "colorbar": {
              "outlinewidth": 0,
              "ticks": ""
             }
            },
            "type": "scattergeo"
           }
          ],
          "scattergl": [
           {
            "marker": {
             "colorbar": {
              "outlinewidth": 0,
              "ticks": ""
             }
            },
            "type": "scattergl"
           }
          ],
          "scattermapbox": [
           {
            "marker": {
             "colorbar": {
              "outlinewidth": 0,
              "ticks": ""
             }
            },
            "type": "scattermapbox"
           }
          ],
          "scatterpolar": [
           {
            "marker": {
             "colorbar": {
              "outlinewidth": 0,
              "ticks": ""
             }
            },
            "type": "scatterpolar"
           }
          ],
          "scatterpolargl": [
           {
            "marker": {
             "colorbar": {
              "outlinewidth": 0,
              "ticks": ""
             }
            },
            "type": "scatterpolargl"
           }
          ],
          "scatterternary": [
           {
            "marker": {
             "colorbar": {
              "outlinewidth": 0,
              "ticks": ""
             }
            },
            "type": "scatterternary"
           }
          ],
          "surface": [
           {
            "colorbar": {
             "outlinewidth": 0,
             "ticks": ""
            },
            "colorscale": [
             [
              0,
              "#0d0887"
             ],
             [
              0.1111111111111111,
              "#46039f"
             ],
             [
              0.2222222222222222,
              "#7201a8"
             ],
             [
              0.3333333333333333,
              "#9c179e"
             ],
             [
              0.4444444444444444,
              "#bd3786"
             ],
             [
              0.5555555555555556,
              "#d8576b"
             ],
             [
              0.6666666666666666,
              "#ed7953"
             ],
             [
              0.7777777777777778,
              "#fb9f3a"
             ],
             [
              0.8888888888888888,
              "#fdca26"
             ],
             [
              1,
              "#f0f921"
             ]
            ],
            "type": "surface"
           }
          ],
          "table": [
           {
            "cells": {
             "fill": {
              "color": "#EBF0F8"
             },
             "line": {
              "color": "white"
             }
            },
            "header": {
             "fill": {
              "color": "#C8D4E3"
             },
             "line": {
              "color": "white"
             }
            },
            "type": "table"
           }
          ]
         },
         "layout": {
          "annotationdefaults": {
           "arrowcolor": "#2a3f5f",
           "arrowhead": 0,
           "arrowwidth": 1
          },
          "coloraxis": {
           "colorbar": {
            "outlinewidth": 0,
            "ticks": ""
           }
          },
          "colorscale": {
           "diverging": [
            [
             0,
             "#8e0152"
            ],
            [
             0.1,
             "#c51b7d"
            ],
            [
             0.2,
             "#de77ae"
            ],
            [
             0.3,
             "#f1b6da"
            ],
            [
             0.4,
             "#fde0ef"
            ],
            [
             0.5,
             "#f7f7f7"
            ],
            [
             0.6,
             "#e6f5d0"
            ],
            [
             0.7,
             "#b8e186"
            ],
            [
             0.8,
             "#7fbc41"
            ],
            [
             0.9,
             "#4d9221"
            ],
            [
             1,
             "#276419"
            ]
           ],
           "sequential": [
            [
             0,
             "#0d0887"
            ],
            [
             0.1111111111111111,
             "#46039f"
            ],
            [
             0.2222222222222222,
             "#7201a8"
            ],
            [
             0.3333333333333333,
             "#9c179e"
            ],
            [
             0.4444444444444444,
             "#bd3786"
            ],
            [
             0.5555555555555556,
             "#d8576b"
            ],
            [
             0.6666666666666666,
             "#ed7953"
            ],
            [
             0.7777777777777778,
             "#fb9f3a"
            ],
            [
             0.8888888888888888,
             "#fdca26"
            ],
            [
             1,
             "#f0f921"
            ]
           ],
           "sequentialminus": [
            [
             0,
             "#0d0887"
            ],
            [
             0.1111111111111111,
             "#46039f"
            ],
            [
             0.2222222222222222,
             "#7201a8"
            ],
            [
             0.3333333333333333,
             "#9c179e"
            ],
            [
             0.4444444444444444,
             "#bd3786"
            ],
            [
             0.5555555555555556,
             "#d8576b"
            ],
            [
             0.6666666666666666,
             "#ed7953"
            ],
            [
             0.7777777777777778,
             "#fb9f3a"
            ],
            [
             0.8888888888888888,
             "#fdca26"
            ],
            [
             1,
             "#f0f921"
            ]
           ]
          },
          "colorway": [
           "#636efa",
           "#EF553B",
           "#00cc96",
           "#ab63fa",
           "#FFA15A",
           "#19d3f3",
           "#FF6692",
           "#B6E880",
           "#FF97FF",
           "#FECB52"
          ],
          "font": {
           "color": "#2a3f5f"
          },
          "geo": {
           "bgcolor": "white",
           "lakecolor": "white",
           "landcolor": "#E5ECF6",
           "showlakes": true,
           "showland": true,
           "subunitcolor": "white"
          },
          "hoverlabel": {
           "align": "left"
          },
          "hovermode": "closest",
          "mapbox": {
           "style": "light"
          },
          "paper_bgcolor": "white",
          "plot_bgcolor": "#E5ECF6",
          "polar": {
           "angularaxis": {
            "gridcolor": "white",
            "linecolor": "white",
            "ticks": ""
           },
           "bgcolor": "#E5ECF6",
           "radialaxis": {
            "gridcolor": "white",
            "linecolor": "white",
            "ticks": ""
           }
          },
          "scene": {
           "xaxis": {
            "backgroundcolor": "#E5ECF6",
            "gridcolor": "white",
            "gridwidth": 2,
            "linecolor": "white",
            "showbackground": true,
            "ticks": "",
            "zerolinecolor": "white"
           },
           "yaxis": {
            "backgroundcolor": "#E5ECF6",
            "gridcolor": "white",
            "gridwidth": 2,
            "linecolor": "white",
            "showbackground": true,
            "ticks": "",
            "zerolinecolor": "white"
           },
           "zaxis": {
            "backgroundcolor": "#E5ECF6",
            "gridcolor": "white",
            "gridwidth": 2,
            "linecolor": "white",
            "showbackground": true,
            "ticks": "",
            "zerolinecolor": "white"
           }
          },
          "shapedefaults": {
           "line": {
            "color": "#2a3f5f"
           }
          },
          "ternary": {
           "aaxis": {
            "gridcolor": "white",
            "linecolor": "white",
            "ticks": ""
           },
           "baxis": {
            "gridcolor": "white",
            "linecolor": "white",
            "ticks": ""
           },
           "bgcolor": "#E5ECF6",
           "caxis": {
            "gridcolor": "white",
            "linecolor": "white",
            "ticks": ""
           }
          },
          "title": {
           "x": 0.05
          },
          "xaxis": {
           "automargin": true,
           "gridcolor": "white",
           "linecolor": "white",
           "ticks": "",
           "title": {
            "standoff": 15
           },
           "zerolinecolor": "white",
           "zerolinewidth": 2
          },
          "yaxis": {
           "automargin": true,
           "gridcolor": "white",
           "linecolor": "white",
           "ticks": "",
           "title": {
            "standoff": 15
           },
           "zerolinecolor": "white",
           "zerolinewidth": 2
          }
         }
        },
        "xaxis": {
         "anchor": "y",
         "domain": [
          0,
          1
         ],
         "title": {
          "text": "pc_1"
         }
        },
        "yaxis": {
         "anchor": "x",
         "domain": [
          0,
          1
         ],
         "title": {
          "text": "pc_2"
         }
        }
       }
      },
      "text/html": [
       "<div>\n",
       "        \n",
       "        \n",
       "            <div id=\"dad7b0d3-08b7-4d61-82cb-95450c6dcc58\" class=\"plotly-graph-div\" style=\"height:525px; width:100%;\"></div>\n",
       "            <script type=\"text/javascript\">\n",
       "                require([\"plotly\"], function(Plotly) {\n",
       "                    window.PLOTLYENV=window.PLOTLYENV || {};\n",
       "                    \n",
       "                if (document.getElementById(\"dad7b0d3-08b7-4d61-82cb-95450c6dcc58\")) {\n",
       "                    Plotly.newPlot(\n",
       "                        'dad7b0d3-08b7-4d61-82cb-95450c6dcc58',\n",
       "                        [{\"customdata\": [[\"01\"], [\"01\"], [\"01\"], [\"01\"], [\"01\"], [\"01\"], [\"01\"], [\"01\"], [\"01\"], [\"01\"], [\"02\"], [\"02\"], [\"02\"], [\"02\"], [\"02\"], [\"02\"], [\"02\"], [\"02\"], [\"03\"], [\"03\"], [\"03\"], [\"03\"], [\"03\"], [\"03\"], [\"03\"], [\"03\"], [\"03\"], [\"03\"], [\"03\"], [\"03\"], [\"03\"], [\"03\"], [\"03\"], [\"03\"], [\"04\"], [\"04\"], [\"04\"], [\"04\"], [\"04\"], [\"04\"], [\"04\"], [\"04\"], [\"04\"], [\"04\"], [\"04\"], [\"04\"], [\"04\"], [\"04\"], [\"04\"], [\"04\"], [\"04\"], [\"05\"], [\"05\"], [\"05\"], [\"05\"], [\"05\"], [\"05\"], [\"05\"], [\"05\"], [\"05\"], [\"06\"], [\"06\"], [\"06\"], [\"06\"], [\"06\"], [\"06\"], [\"06\"], [\"06\"], [\"07\"], [\"07\"], [\"07\"], [\"07\"], [\"07\"], [\"07\"], [\"07\"], [\"08\"], [\"08\"], [\"08\"], [\"08\"], [\"08\"], [\"08\"], [\"08\"], [\"08\"], [\"08\"], [\"08\"], [\"09\"], [\"09\"], [\"09\"], [\"09\"], [\"09\"], [\"09\"], [\"09\"], [\"09\"], [\"09\"], [\"09\"], [\"09\"], [\"09\"], [\"09\"], [\"09\"], [\"09\"], [\"09\"], [\"09\"], [\"09\"], [\"09\"], [\"09\"], [\"10\"], [\"10\"], [\"10\"], [\"10\"], [\"10\"], [\"10\"], [\"10\"], [\"10\"], [\"10\"], [\"11\"], [\"11\"], [\"11\"], [\"11\"], [\"11\"], [\"11\"], [\"11\"], [\"11\"], [\"11\"], [\"11\"], [\"11\"], [\"11\"], [\"11\"], [\"12\"], [\"12\"], [\"12\"], [\"12\"], [\"12\"], [\"12\"], [\"12\"], [\"12\"], [\"12\"], [\"12\"], [\"12\"]], \"hovertemplate\": \"<b>%{hovertext}</b><br><br>pc_1=%{x}<br>pc_2=%{y}<br>Bezirk=%{customdata[0]}<br>cluster=%{marker.color}<extra></extra>\", \"hovertext\": [\"Tiergarten S\\u00fcd\", \"Regierungsviertel\", \"Alexanderplatz\", \"Brunnenstra\\u00dfe S\\u00fcd\", \"Moabit West\", \"Moabit Ost\", \"Osloer Stra\\u00dfe\", \"Brunnenstra\\u00dfe Nord\", \"Parkviertel\", \"Wedding Zentrum\", \"S\\u00fcdliche Friedrichstadt\", \"Tempelhofer Vorstadt\", \"N\\u00f6rdliche Luisenstadt\", \"S\\u00fcdliche Luisenstadt\", \"Karl-Marx-Allee Nord\", \"Karl-Marx-Allee S\\u00fcd\", \"Frankfurter Allee Nord\", \"Frankfurter Allee S\\u00fcd FK\", \"Buch\", \"Blankenfelde/Niedersch\\u00f6nhausen\", \"Buchholz\", \"Karow\", \"Blankenburg/Heinersdorf/M\\u00e4rchenland\", \"Sch\\u00f6nholz/Wilhelmsruh/Rosenthal\", \"Pankow Zentrum\", \"Pankow S\\u00fcd\", \"Wei\\u00dfensee\", \"Wei\\u00dfensee Ost\", \"Prenzlauer Berg Nordwest\", \"Prenzlauer Berg Nord\", \"Helmholtzplatz\", \"Prenzlauer Berg Ost\", \"Prenzlauer Berg S\\u00fcdwest\", \"Prenzlauer Berg S\\u00fcd\", \"Charlottenburg Nord\", \"Heerstra\\u00dfe\", \"Westend\", \"Schlo\\u00df Charlottenburg\", \"Mierendorffplatz\", \"Otto-Suhr-Allee\", \"Neue Kantstra\\u00dfe\", \"Kantstra\\u00dfe\", \"Kurf\\u00fcrstendamm\", \"Halensee\", \"Grunewald\", \"Schmargendorf\", \"Wiesbadener Stra\\u00dfe\", \"D\\u00fcsseldorfer Stra\\u00dfe\", \"Barstra\\u00dfe\", \"Volkspark Wilmersdorf\", \"Forst Grunewald\", \"Hakenfelde\", \"Falkenhagener Feld\", \"Spandau Mitte\", \"Brunsb\\u00fctteler Damm\", \"Heerstra\\u00dfe Nord\", \"Wilhelmstadt\", \"Haselhorst\", \"Siemensstadt\", \"Gatow/Kladow\", \"Schlo\\u00dfstra\\u00dfe\", \"Albrechtstra\\u00dfe\", \"Lankwitz\", \"Ostpreu\\u00dfendamm\", \"Teltower Damm\", \"Drakestra\\u00dfe\", \"Zehlendorf S\\u00fcdwest\", \"Zehlendorf Nord\", \"Sch\\u00f6neberg Nord\", \"Sch\\u00f6neberg S\\u00fcd\", \"Friedenau\", \"Tempelhof\", \"Mariendorf\", \"Marienfelde\", \"Lichtenrade\", \"Schillerpromenade\", \"Neuk\\u00f6llner Mitte/Zentrum\", \"Reuterstra\\u00dfe\", \"Rixdorf\", \"K\\u00f6llnische Heide\", \"Britz\", \"Buckow\", \"Gropiusstadt\", \"Buckow Nord\", \"Rudow\", \"Alt-Treptow\", \"Pl\\u00e4nterwald\", \"Baumschulenweg\", \"Johannisthal\", \"Obersch\\u00f6neweide\", \"Niedersch\\u00f6neweide\", \"Adlershof\", \"K\\u00f6llnische Vorstadt/Spindlersfeld\", \"Altglienicke\", \"Bohnsdorf\", \"Gr\\u00fcnau\", \"Schm\\u00f6ckwitz/Karolinenhof/Rauchfangswerder\", \"K\\u00f6penick S\\u00fcd\", \"Allende-Viertel\", \"Altstadt-Kietz\", \"M\\u00fcggelheim\", \"Friedrichshagen\", \"Rahnsdorf/Hessenwinkel\", \"Dammvorstadt\", \"K\\u00f6penick Nord\", \"Marzahn Nord\", \"Marzahn Mitte\", \"Marzahn S\\u00fcd\", \"Hellersdorf Nord\", \"Hellersdorf Ost\", \"Hellersdorf S\\u00fcd\", \"Biesdorf\", \"Kaulsdorf\", \"Mahlsdorf\", \"Malchow, Wartenberg und Falkenberg\", \"Neu-Hohensch\\u00f6nhausen Nord\", \"Neu-Hohensch\\u00f6nhausen S\\u00fcd\", \"Alt-Hohensch\\u00f6nhausen Nord\", \"Alt-Hohensch\\u00f6nhausen S\\u00fcd\", \"Fennpfuhl\", \"Alt-Lichtenberg\", \"Frankfurter Allee S\\u00fcd\", \"Neu-Lichtenberg\", \"Friedrichsfelde Nord\", \"Friedrichsfelde S\\u00fcd\", \"Rummelsburger Bucht\", \"Karlshorst\", \"Ost 1 - Reginhardstra\\u00dfe\", \"Ost 2 - Alt-Reinickendorf\", \"West 1 - Tegel-S\\u00fcd/Flughafensee\", \"West 4 - Auguste-Viktoria-Allee\", \"West 5 - Tegel/Tegeler Forst\", \"West 2 - Heiligensee/Konradsh\\u00f6he\", \"Nord 1 - Frohnau/Hermsdorf\", \"Nord 2 - Waidmannslust/Wittenau/L\\u00fcbars\", \"MV 1 - M\\u00e4rkisches Viertel\", \"MV 2 - Rollbergesiedlung\", \"West 3 - Borsigwalde/Freie Scholle\"], \"legendgroup\": \"\", \"marker\": {\"color\": [1, 1, 1, 1, 2, 3, 2, 2, 2, 2, 2, 2, 1, 1, 1, 1, 1, 1, 4, 0, 0, 0, 0, 0, 1, 1, 1, 0, 1, 1, 1, 1, 1, 1, 3, 1, 1, 1, 1, 1, 1, 1, 1, 1, 1, 1, 1, 1, 1, 1, 0, 3, 3, 3, 0, 3, 3, 0, 0, 0, 1, 3, 3, 3, 1, 3, 0, 1, 2, 2, 1, 2, 3, 3, 3, 2, 2, 2, 2, 3, 3, 3, 3, 0, 3, 1, 0, 0, 0, 4, 0, 0, 0, 0, 0, 0, 0, 0, 4, 0, 0, 0, 0, 0, 0, 4, 4, 4, 4, 4, 4, 0, 0, 0, 0, 4, 4, 4, 4, 4, 4, 4, 1, 4, 4, 0, 0, 3, 3, 0, 3, 0, 0, 0, 0, 3, 0, 0], \"coloraxis\": \"coloraxis\", \"size\": 10, \"symbol\": \"circle\"}, \"mode\": \"markers\", \"name\": \"\", \"orientation\": \"v\", \"showlegend\": false, \"type\": \"scatter\", \"x\": [1.095221726313698, -0.37395459782916746, 10.991002414058785, 7.272189966999242, 10.918576058322136, 7.777550383740198, 10.28550229283353, 8.788257480032758, 8.092322102860631, 16.73095663987111, 10.026616317306829, 15.690116061653367, 3.425341384670597, 5.531232823622947, -0.834961286114439, 1.4778223557912282, 3.9362088430357045, 9.71551150886999, -5.806069378281459, -2.5830849616901115, -5.9541281930514645, -6.113590250060807, -5.811624322573482, -4.217011347702854, -0.3407871571139955, -0.5834069412479497, 0.5962702341277424, -5.419441374789614, 3.120852734025696, 1.4458453751239047, 3.1210436595762348, -1.0129605861361746, 5.070446228190045, 4.011247090286399, -1.2766615292142456, -2.0592736722555474, 1.4614461165820538, 2.2090570299322385, -0.24752294879887451, 3.6426367135423114, 3.429906703618975, 3.314745325767643, 0.7638628738625153, -0.10395023412032867, -0.7838069882391934, -2.080381559877116, -1.194169967715923, 4.630981353235834, -0.2180128842141677, 4.589893508249173, -5.999818972790188, -2.734980824547972, 1.4891190478884355, 5.035537346138557, -2.83881882802344, -0.02956789763943909, 2.5283182017893604, -2.834199256893016, -2.166848689014841, -4.2452495865309805, 0.5759987022556916, 6.237928534526952, 1.981339993183041, 0.22951687983110694, 0.2978009535283238, 4.4678012132424865, -1.6634515214541716, 2.0338985514669154, 11.870057837216772, 10.133276336905896, 6.078838101081983, 10.39756368873831, 5.523977855658912, -1.0061820224022493, 2.0055383027616287, 7.9626467133230285, 10.469304634928974, 10.062102102161342, 10.846633441914365, 0.45266199589448036, 4.585858917299586, -0.14855673036900655, 2.688329998091281, -4.226938648747574, 1.108186375682171, -0.8320512598329659, -3.6643397421933304, -3.07993891883684, -4.153783070892746, -1.8280682135358948, -4.449770906393128, -3.1831742968302885, -5.663699372164112, -3.874824396792499, -5.532773396392562, -6.783862161179245, -8.04116400468168, -7.197069550159394, -8.009772423928688, -5.114846452106771, -9.046379371981912, -4.990037691707028, -7.550099813904579, -5.680037481544337, -6.181352564445407, -6.252609597159915, -2.693658411777939, -5.1791282683708015, -2.977583664688258, -5.580627510420586, -6.346918380793539, -6.173855439176657, -6.942780279650871, -5.929555148199662, -8.514330328758115, -4.3270103958148045, -4.51582315077295, -5.597153490568286, -3.4477611323204678, -1.7539920238694222, -0.746554456036222, -4.627838786486165, -0.09575682153295084, -4.4844003929438845, -4.651811078736831, -5.511966778086935, -3.2851268107480984, 3.1239695265523473, 1.0655641351115046, -3.0524044363994522, 2.9043432507762637, -4.155489425455356, -4.125590912209115, -1.8552208360085651, -1.3846734230764577, 2.944666659450223, -4.637769596221292, -3.649593378276706], \"xaxis\": \"x\", \"y\": [3.944291978440455, 7.543315790152053, 4.938918840350729, 10.584781211924875, -2.4051156598700745, -1.576865469778966, -5.8495175309929275, -5.425947483719351, -5.1325688526539395, -6.405853814222141, -3.523277012438957, 3.218359196423677, 2.579647720252948, 5.143342625080426, 3.1944298162021108, 2.647114819724087, 6.643248164167489, 6.500285367708826, -1.4603021190022596, 3.1878170637531564, 0.836548590410752, -0.663281672726616, 0.42587049753846573, 1.2714968993283644, 2.2747589913649406, 2.1998146990357403, 2.3048096559554843, 0.754713417803074, 8.699692269182718, 6.711839874689778, 10.22557884248888, 1.8788138632684723, 10.917690658561444, 7.842920838624979, -3.7363026431073343, 6.525519282965306, 3.274960386626615, 2.3534420705579624, 2.889943191658549, 1.7883760626644871, 7.119339803869972, 5.3025773572972, 7.505103016384804, 6.4916203756120305, 5.006966251338804, 5.401648225015206, 4.398092228109999, 5.266967314644368, 2.357496615578992, 3.9884869322669547, 6.969649676245706, -4.656836052003488, -8.999072395861091, -6.095388602294275, -2.550708322124109, -8.333432916531066, -5.280162940413928, -2.450237738949658, -2.308328527571925, 3.2018456603443917, 4.096241917608567, -2.988721625574775, -4.549333523693383, -1.509497005893608, 2.735107407170085, 0.14098910044491203, 5.1006946834508895, 4.5443836528930674, -0.904886323988346, 1.0451373515635032, 1.5512601066058733, -6.073913376647318, -7.296516561104203, -6.778235359989769, -7.045816848352153, 0.5021382382332723, -1.9307701416071854, 1.8345669626004197, -1.1758009547290802, -5.864954114216855, -6.179174543240013, -5.978703642249083, -9.169285247079284, -2.29920143483973, -6.111263311732333, 4.471033797986342, 3.698461191689927, -0.29324988210916325, 0.1464593474098465, -1.927515386733558, 0.5253111706272516, 0.769334351632956, -0.17504734863298602, -3.018073480856724, 2.107139857759165, 3.284482860232914, 2.6519432459125243, 3.464116338681255, 0.46398893435102223, 1.4459718491077498, 1.3010613823952693, 3.6856385737894373, 2.84119565536182, 2.6373229368375983, 3.306366717966483, -6.2884614118643265, -8.778693240593512, -6.518782684361585, -7.585492807002129, -3.8773889790347478, -4.43453944728655, -1.7622821566087885, 0.8523437262282845, -0.0338811552919877, -1.7076595502942715, -7.972574204825104, -6.295817299636915, -3.9840970342323, -4.186826541707538, -4.09834010906929, -2.4237080057665863, -2.8407422343287574, 1.3439382513352716, -1.838057257609644, -3.930621673851991, 3.6252997537004035, 1.5531744914601477, -5.572244506567858, -3.6705584499343464, -1.4183560669189703, -6.011746228326872, 0.9874106432803748, 1.8268734345428514, 3.1407147157548234, -2.054608986296642, -8.689327549376696, -3.3853283252089783, -0.5089430187014443], \"yaxis\": \"y\"}, {\"marker\": {\"color\": \"DarkSlateGrey\", \"opacity\": 0.2, \"size\": 15}, \"mode\": \"markers\", \"showlegend\": false, \"type\": \"scatter\", \"x\": [-3.6608446802063126, 1.3531866920849636, 9.877128193179473, -5.614546806219446, 1.864413696893842], \"y\": [-3.387174027916794, 4.883044752818132, -1.1830791541145924, 1.781998985207914, -6.689106110086485]}],\n",
       "                        {\"coloraxis\": {\"colorbar\": {\"title\": {\"text\": \"cluster\"}}, \"colorscale\": [[0.0, \"#0d0887\"], [0.1111111111111111, \"#46039f\"], [0.2222222222222222, \"#7201a8\"], [0.3333333333333333, \"#9c179e\"], [0.4444444444444444, \"#bd3786\"], [0.5555555555555556, \"#d8576b\"], [0.6666666666666666, \"#ed7953\"], [0.7777777777777778, \"#fb9f3a\"], [0.8888888888888888, \"#fdca26\"], [1.0, \"#f0f921\"]]}, \"legend\": {\"tracegroupgap\": 0}, \"margin\": {\"t\": 60}, \"template\": {\"data\": {\"bar\": [{\"error_x\": {\"color\": \"#2a3f5f\"}, \"error_y\": {\"color\": \"#2a3f5f\"}, \"marker\": {\"line\": {\"color\": \"#E5ECF6\", \"width\": 0.5}}, \"type\": \"bar\"}], \"barpolar\": [{\"marker\": {\"line\": {\"color\": \"#E5ECF6\", \"width\": 0.5}}, \"type\": \"barpolar\"}], \"carpet\": [{\"aaxis\": {\"endlinecolor\": \"#2a3f5f\", \"gridcolor\": \"white\", \"linecolor\": \"white\", \"minorgridcolor\": \"white\", \"startlinecolor\": \"#2a3f5f\"}, \"baxis\": {\"endlinecolor\": \"#2a3f5f\", \"gridcolor\": \"white\", \"linecolor\": \"white\", \"minorgridcolor\": \"white\", \"startlinecolor\": \"#2a3f5f\"}, \"type\": \"carpet\"}], \"choropleth\": [{\"colorbar\": {\"outlinewidth\": 0, \"ticks\": \"\"}, \"type\": \"choropleth\"}], \"contour\": [{\"colorbar\": {\"outlinewidth\": 0, \"ticks\": \"\"}, \"colorscale\": [[0.0, \"#0d0887\"], [0.1111111111111111, \"#46039f\"], [0.2222222222222222, \"#7201a8\"], [0.3333333333333333, \"#9c179e\"], [0.4444444444444444, \"#bd3786\"], [0.5555555555555556, \"#d8576b\"], [0.6666666666666666, \"#ed7953\"], [0.7777777777777778, \"#fb9f3a\"], [0.8888888888888888, \"#fdca26\"], [1.0, \"#f0f921\"]], \"type\": \"contour\"}], \"contourcarpet\": [{\"colorbar\": {\"outlinewidth\": 0, \"ticks\": \"\"}, \"type\": \"contourcarpet\"}], \"heatmap\": [{\"colorbar\": {\"outlinewidth\": 0, \"ticks\": \"\"}, \"colorscale\": [[0.0, \"#0d0887\"], [0.1111111111111111, \"#46039f\"], [0.2222222222222222, \"#7201a8\"], [0.3333333333333333, \"#9c179e\"], [0.4444444444444444, \"#bd3786\"], [0.5555555555555556, \"#d8576b\"], [0.6666666666666666, \"#ed7953\"], [0.7777777777777778, \"#fb9f3a\"], [0.8888888888888888, \"#fdca26\"], [1.0, \"#f0f921\"]], \"type\": \"heatmap\"}], \"heatmapgl\": [{\"colorbar\": {\"outlinewidth\": 0, \"ticks\": \"\"}, \"colorscale\": [[0.0, \"#0d0887\"], [0.1111111111111111, \"#46039f\"], [0.2222222222222222, \"#7201a8\"], [0.3333333333333333, \"#9c179e\"], [0.4444444444444444, \"#bd3786\"], [0.5555555555555556, \"#d8576b\"], [0.6666666666666666, \"#ed7953\"], [0.7777777777777778, \"#fb9f3a\"], [0.8888888888888888, \"#fdca26\"], [1.0, \"#f0f921\"]], \"type\": \"heatmapgl\"}], \"histogram\": [{\"marker\": {\"colorbar\": {\"outlinewidth\": 0, \"ticks\": \"\"}}, \"type\": \"histogram\"}], \"histogram2d\": [{\"colorbar\": {\"outlinewidth\": 0, \"ticks\": \"\"}, \"colorscale\": [[0.0, \"#0d0887\"], [0.1111111111111111, \"#46039f\"], [0.2222222222222222, \"#7201a8\"], [0.3333333333333333, \"#9c179e\"], [0.4444444444444444, \"#bd3786\"], [0.5555555555555556, \"#d8576b\"], [0.6666666666666666, \"#ed7953\"], [0.7777777777777778, \"#fb9f3a\"], [0.8888888888888888, \"#fdca26\"], [1.0, \"#f0f921\"]], \"type\": \"histogram2d\"}], \"histogram2dcontour\": [{\"colorbar\": {\"outlinewidth\": 0, \"ticks\": \"\"}, \"colorscale\": [[0.0, \"#0d0887\"], [0.1111111111111111, \"#46039f\"], [0.2222222222222222, \"#7201a8\"], [0.3333333333333333, \"#9c179e\"], [0.4444444444444444, \"#bd3786\"], [0.5555555555555556, \"#d8576b\"], [0.6666666666666666, \"#ed7953\"], [0.7777777777777778, \"#fb9f3a\"], [0.8888888888888888, \"#fdca26\"], [1.0, \"#f0f921\"]], \"type\": \"histogram2dcontour\"}], \"mesh3d\": [{\"colorbar\": {\"outlinewidth\": 0, \"ticks\": \"\"}, \"type\": \"mesh3d\"}], \"parcoords\": [{\"line\": {\"colorbar\": {\"outlinewidth\": 0, \"ticks\": \"\"}}, \"type\": \"parcoords\"}], \"pie\": [{\"automargin\": true, \"type\": \"pie\"}], \"scatter\": [{\"marker\": {\"colorbar\": {\"outlinewidth\": 0, \"ticks\": \"\"}}, \"type\": \"scatter\"}], \"scatter3d\": [{\"line\": {\"colorbar\": {\"outlinewidth\": 0, \"ticks\": \"\"}}, \"marker\": {\"colorbar\": {\"outlinewidth\": 0, \"ticks\": \"\"}}, \"type\": \"scatter3d\"}], \"scattercarpet\": [{\"marker\": {\"colorbar\": {\"outlinewidth\": 0, \"ticks\": \"\"}}, \"type\": \"scattercarpet\"}], \"scattergeo\": [{\"marker\": {\"colorbar\": {\"outlinewidth\": 0, \"ticks\": \"\"}}, \"type\": \"scattergeo\"}], \"scattergl\": [{\"marker\": {\"colorbar\": {\"outlinewidth\": 0, \"ticks\": \"\"}}, \"type\": \"scattergl\"}], \"scattermapbox\": [{\"marker\": {\"colorbar\": {\"outlinewidth\": 0, \"ticks\": \"\"}}, \"type\": \"scattermapbox\"}], \"scatterpolar\": [{\"marker\": {\"colorbar\": {\"outlinewidth\": 0, \"ticks\": \"\"}}, \"type\": \"scatterpolar\"}], \"scatterpolargl\": [{\"marker\": {\"colorbar\": {\"outlinewidth\": 0, \"ticks\": \"\"}}, \"type\": \"scatterpolargl\"}], \"scatterternary\": [{\"marker\": {\"colorbar\": {\"outlinewidth\": 0, \"ticks\": \"\"}}, \"type\": \"scatterternary\"}], \"surface\": [{\"colorbar\": {\"outlinewidth\": 0, \"ticks\": \"\"}, \"colorscale\": [[0.0, \"#0d0887\"], [0.1111111111111111, \"#46039f\"], [0.2222222222222222, \"#7201a8\"], [0.3333333333333333, \"#9c179e\"], [0.4444444444444444, \"#bd3786\"], [0.5555555555555556, \"#d8576b\"], [0.6666666666666666, \"#ed7953\"], [0.7777777777777778, \"#fb9f3a\"], [0.8888888888888888, \"#fdca26\"], [1.0, \"#f0f921\"]], \"type\": \"surface\"}], \"table\": [{\"cells\": {\"fill\": {\"color\": \"#EBF0F8\"}, \"line\": {\"color\": \"white\"}}, \"header\": {\"fill\": {\"color\": \"#C8D4E3\"}, \"line\": {\"color\": \"white\"}}, \"type\": \"table\"}]}, \"layout\": {\"annotationdefaults\": {\"arrowcolor\": \"#2a3f5f\", \"arrowhead\": 0, \"arrowwidth\": 1}, \"coloraxis\": {\"colorbar\": {\"outlinewidth\": 0, \"ticks\": \"\"}}, \"colorscale\": {\"diverging\": [[0, \"#8e0152\"], [0.1, \"#c51b7d\"], [0.2, \"#de77ae\"], [0.3, \"#f1b6da\"], [0.4, \"#fde0ef\"], [0.5, \"#f7f7f7\"], [0.6, \"#e6f5d0\"], [0.7, \"#b8e186\"], [0.8, \"#7fbc41\"], [0.9, \"#4d9221\"], [1, \"#276419\"]], \"sequential\": [[0.0, \"#0d0887\"], [0.1111111111111111, \"#46039f\"], [0.2222222222222222, \"#7201a8\"], [0.3333333333333333, \"#9c179e\"], [0.4444444444444444, \"#bd3786\"], [0.5555555555555556, \"#d8576b\"], [0.6666666666666666, \"#ed7953\"], [0.7777777777777778, \"#fb9f3a\"], [0.8888888888888888, \"#fdca26\"], [1.0, \"#f0f921\"]], \"sequentialminus\": [[0.0, \"#0d0887\"], [0.1111111111111111, \"#46039f\"], [0.2222222222222222, \"#7201a8\"], [0.3333333333333333, \"#9c179e\"], [0.4444444444444444, \"#bd3786\"], [0.5555555555555556, \"#d8576b\"], [0.6666666666666666, \"#ed7953\"], [0.7777777777777778, \"#fb9f3a\"], [0.8888888888888888, \"#fdca26\"], [1.0, \"#f0f921\"]]}, \"colorway\": [\"#636efa\", \"#EF553B\", \"#00cc96\", \"#ab63fa\", \"#FFA15A\", \"#19d3f3\", \"#FF6692\", \"#B6E880\", \"#FF97FF\", \"#FECB52\"], \"font\": {\"color\": \"#2a3f5f\"}, \"geo\": {\"bgcolor\": \"white\", \"lakecolor\": \"white\", \"landcolor\": \"#E5ECF6\", \"showlakes\": true, \"showland\": true, \"subunitcolor\": \"white\"}, \"hoverlabel\": {\"align\": \"left\"}, \"hovermode\": \"closest\", \"mapbox\": {\"style\": \"light\"}, \"paper_bgcolor\": \"white\", \"plot_bgcolor\": \"#E5ECF6\", \"polar\": {\"angularaxis\": {\"gridcolor\": \"white\", \"linecolor\": \"white\", \"ticks\": \"\"}, \"bgcolor\": \"#E5ECF6\", \"radialaxis\": {\"gridcolor\": \"white\", \"linecolor\": \"white\", \"ticks\": \"\"}}, \"scene\": {\"xaxis\": {\"backgroundcolor\": \"#E5ECF6\", \"gridcolor\": \"white\", \"gridwidth\": 2, \"linecolor\": \"white\", \"showbackground\": true, \"ticks\": \"\", \"zerolinecolor\": \"white\"}, \"yaxis\": {\"backgroundcolor\": \"#E5ECF6\", \"gridcolor\": \"white\", \"gridwidth\": 2, \"linecolor\": \"white\", \"showbackground\": true, \"ticks\": \"\", \"zerolinecolor\": \"white\"}, \"zaxis\": {\"backgroundcolor\": \"#E5ECF6\", \"gridcolor\": \"white\", \"gridwidth\": 2, \"linecolor\": \"white\", \"showbackground\": true, \"ticks\": \"\", \"zerolinecolor\": \"white\"}}, \"shapedefaults\": {\"line\": {\"color\": \"#2a3f5f\"}}, \"ternary\": {\"aaxis\": {\"gridcolor\": \"white\", \"linecolor\": \"white\", \"ticks\": \"\"}, \"baxis\": {\"gridcolor\": \"white\", \"linecolor\": \"white\", \"ticks\": \"\"}, \"bgcolor\": \"#E5ECF6\", \"caxis\": {\"gridcolor\": \"white\", \"linecolor\": \"white\", \"ticks\": \"\"}}, \"title\": {\"x\": 0.05}, \"xaxis\": {\"automargin\": true, \"gridcolor\": \"white\", \"linecolor\": \"white\", \"ticks\": \"\", \"title\": {\"standoff\": 15}, \"zerolinecolor\": \"white\", \"zerolinewidth\": 2}, \"yaxis\": {\"automargin\": true, \"gridcolor\": \"white\", \"linecolor\": \"white\", \"ticks\": \"\", \"title\": {\"standoff\": 15}, \"zerolinecolor\": \"white\", \"zerolinewidth\": 2}}}, \"xaxis\": {\"anchor\": \"y\", \"domain\": [0.0, 1.0], \"title\": {\"text\": \"pc_1\"}}, \"yaxis\": {\"anchor\": \"x\", \"domain\": [0.0, 1.0], \"title\": {\"text\": \"pc_2\"}}},\n",
       "                        {\"responsive\": true}\n",
       "                    ).then(function(){\n",
       "                            \n",
       "var gd = document.getElementById('dad7b0d3-08b7-4d61-82cb-95450c6dcc58');\n",
       "var x = new MutationObserver(function (mutations, observer) {{\n",
       "        var display = window.getComputedStyle(gd).display;\n",
       "        if (!display || display === 'none') {{\n",
       "            console.log([gd, 'removed!']);\n",
       "            Plotly.purge(gd);\n",
       "            observer.disconnect();\n",
       "        }}\n",
       "}});\n",
       "\n",
       "// Listen for the removal of the full notebook cells\n",
       "var notebookContainer = gd.closest('#notebook-container');\n",
       "if (notebookContainer) {{\n",
       "    x.observe(notebookContainer, {childList: true});\n",
       "}}\n",
       "\n",
       "// Listen for the clearing of the current output cell\n",
       "var outputEl = gd.closest('.output');\n",
       "if (outputEl) {{\n",
       "    x.observe(outputEl, {childList: true});\n",
       "}}\n",
       "\n",
       "                        })\n",
       "                };\n",
       "                });\n",
       "            </script>\n",
       "        </div>"
      ]
     },
     "metadata": {},
     "output_type": "display_data"
    }
   ],
   "source": [
    "cluster_2019 = Cluster(dataframes['df_2019'], 5, 'k_means')\n",
    "cluster_2019.visualize_clusters()"
   ]
  }
 ],
 "metadata": {
  "kernelspec": {
   "display_name": "Python 3",
   "language": "python",
   "name": "python3"
  },
  "language_info": {
   "codemirror_mode": {
    "name": "ipython",
    "version": 3
   },
   "file_extension": ".py",
   "mimetype": "text/x-python",
   "name": "python",
   "nbconvert_exporter": "python",
   "pygments_lexer": "ipython3",
   "version": "3.6.10"
  }
 },
 "nbformat": 4,
 "nbformat_minor": 4
}
